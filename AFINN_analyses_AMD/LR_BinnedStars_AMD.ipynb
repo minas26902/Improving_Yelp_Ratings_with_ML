{
 "cells": [
  {
   "cell_type": "markdown",
   "metadata": {},
   "source": [
    "\n",
    "## AFINN Linear Regression Model_AMD\n",
    "### Binned star rating"
   ]
  },
  {
   "cell_type": "code",
   "execution_count": 82,
   "metadata": {},
   "outputs": [],
   "source": [
    "#Import dependencies\n",
    "%matplotlib inline\n",
    "import matplotlib.pyplot as plt\n",
    "import numpy as np\n",
    "import pandas as pd"
   ]
  },
  {
   "cell_type": "code",
   "execution_count": 83,
   "metadata": {},
   "outputs": [
    {
     "data": {
      "text/html": [
       "<div>\n",
       "<style scoped>\n",
       "    .dataframe tbody tr th:only-of-type {\n",
       "        vertical-align: middle;\n",
       "    }\n",
       "\n",
       "    .dataframe tbody tr th {\n",
       "        vertical-align: top;\n",
       "    }\n",
       "\n",
       "    .dataframe thead th {\n",
       "        text-align: right;\n",
       "    }\n",
       "</style>\n",
       "<table border=\"1\" class=\"dataframe\">\n",
       "  <thead>\n",
       "    <tr style=\"text-align: right;\">\n",
       "      <th></th>\n",
       "      <th>SAnorm_score</th>\n",
       "      <th>value_stars</th>\n",
       "    </tr>\n",
       "  </thead>\n",
       "  <tbody>\n",
       "    <tr>\n",
       "      <th>323305</th>\n",
       "      <td>8.004166</td>\n",
       "      <td>5</td>\n",
       "    </tr>\n",
       "    <tr>\n",
       "      <th>323306</th>\n",
       "      <td>1.414214</td>\n",
       "      <td>1</td>\n",
       "    </tr>\n",
       "    <tr>\n",
       "      <th>323307</th>\n",
       "      <td>4.050814</td>\n",
       "      <td>3</td>\n",
       "    </tr>\n",
       "    <tr>\n",
       "      <th>323308</th>\n",
       "      <td>6.971370</td>\n",
       "      <td>5</td>\n",
       "    </tr>\n",
       "    <tr>\n",
       "      <th>323309</th>\n",
       "      <td>3.130495</td>\n",
       "      <td>2</td>\n",
       "    </tr>\n",
       "  </tbody>\n",
       "</table>\n",
       "</div>"
      ],
      "text/plain": [
       "        SAnorm_score  value_stars\n",
       "323305      8.004166            5\n",
       "323306      1.414214            1\n",
       "323307      4.050814            3\n",
       "323308      6.971370            5\n",
       "323309      3.130495            2"
      ]
     },
     "execution_count": 83,
     "metadata": {},
     "output_type": "execute_result"
    }
   ],
   "source": [
    "#Import csv file (binned data)\n",
    "binned=pd.read_csv('Resources/BinnedStars.csv')\n",
    "binned.tail()"
   ]
  },
  {
   "cell_type": "code",
   "execution_count": 86,
   "metadata": {},
   "outputs": [
    {
     "data": {
      "text/plain": [
       "array([[7.77817459],\n",
       "       [1.58113883],\n",
       "       [6.14700856],\n",
       "       ...,\n",
       "       [4.05081361],\n",
       "       [6.97137002],\n",
       "       [3.13049517]])"
      ]
     },
     "execution_count": 86,
     "metadata": {},
     "output_type": "execute_result"
    }
   ],
   "source": [
    "binned.SAnorm_score.values.reshape(-1,1)"
   ]
  },
  {
   "cell_type": "code",
   "execution_count": 87,
   "metadata": {},
   "outputs": [
    {
     "name": "stdout",
     "output_type": "stream",
     "text": [
      "Shape: (323310, 1) (323310, 1)\n"
     ]
    }
   ],
   "source": [
    "#Assign data to X and y\n",
    "X=binned.SAnorm_score.values.reshape(-1,1)\n",
    "y=binned.value_stars.values.reshape(-1,1)\n",
    "print(\"Shape:\", X.shape, y.shape)"
   ]
  },
  {
   "cell_type": "code",
   "execution_count": 88,
   "metadata": {},
   "outputs": [
    {
     "data": {
      "text/plain": [
       "LinearRegression(copy_X=True, fit_intercept=True, n_jobs=1, normalize=False)"
      ]
     },
     "execution_count": 88,
     "metadata": {},
     "output_type": "execute_result"
    }
   ],
   "source": [
    "#Create a model and fit the model to the data\n",
    "from sklearn.linear_model import LinearRegression\n",
    "from sklearn.datasets import make_regression\n",
    "\n",
    "#Create a linear model\n",
    "model=LinearRegression()\n",
    "\n",
    "#Fit the model to the data\n",
    "model.fit(X,y)"
   ]
  },
  {
   "cell_type": "code",
   "execution_count": 89,
   "metadata": {},
   "outputs": [
    {
     "name": "stdout",
     "output_type": "stream",
     "text": [
      "Accuracy of model\n",
      "MSE: 0.30124741050923015\n",
      "R2: 0.8498834604188972\n"
     ]
    }
   ],
   "source": [
    "#Quantify model by looking at MSE and R2\n",
    "#Import depencies\n",
    "from sklearn.metrics import mean_squared_error, r2_score\n",
    "\n",
    "#Use model to predict a value\n",
    "predicted= model.predict(X)\n",
    "\n",
    "mse=mean_squared_error(y,predicted)\n",
    "r2= r2_score(y, predicted)\n",
    "\n",
    "print(\"Accuracy of model\")\n",
    "print(f\"MSE: {mse}\")\n",
    "print(f\"R2: {r2}\")"
   ]
  },
  {
   "cell_type": "code",
   "execution_count": 100,
   "metadata": {},
   "outputs": [
    {
     "name": "stdout",
     "output_type": "stream",
     "text": [
      "Overall model score\n"
     ]
    },
    {
     "data": {
      "text/plain": [
       "0.849883072584378"
      ]
     },
     "execution_count": 100,
     "metadata": {},
     "output_type": "execute_result"
    }
   ],
   "source": [
    "#Overall Score for the model\n",
    "print('Overall model score')\n",
    "model.score(X,y)"
   ]
  },
  {
   "cell_type": "code",
   "execution_count": 102,
   "metadata": {},
   "outputs": [
    {
     "data": {
      "text/plain": [
       "array([[ 0.        ],\n",
       "       [ 1.06066017],\n",
       "       [-3.57770876],\n",
       "       ...,\n",
       "       [ 3.13049517],\n",
       "       [-0.83205029],\n",
       "       [ 3.        ]])"
      ]
     },
     "execution_count": 102,
     "metadata": {},
     "output_type": "execute_result"
    }
   ],
   "source": [
    "#Testing and Training Data\n",
    "from sklearn.model_selection import train_test_split\n",
    "X_train, X_test, y_train, y_test = train_test_split(X,y, random_state=42)\n",
    "X_test"
   ]
  },
  {
   "cell_type": "code",
   "execution_count": 103,
   "metadata": {},
   "outputs": [
    {
     "data": {
      "text/plain": [
       "LinearRegression(copy_X=True, fit_intercept=True, n_jobs=1, normalize=False)"
      ]
     },
     "execution_count": 103,
     "metadata": {},
     "output_type": "execute_result"
    }
   ],
   "source": [
    "# Test the model using training data\n",
    "model.fit(X_train, y_train)"
   ]
  },
  {
   "cell_type": "code",
   "execution_count": 104,
   "metadata": {},
   "outputs": [
    {
     "name": "stdout",
     "output_type": "stream",
     "text": [
      "Test score\n"
     ]
    },
    {
     "data": {
      "text/plain": [
       "0.8506219880154156"
      ]
     },
     "execution_count": 104,
     "metadata": {},
     "output_type": "execute_result"
    }
   ],
   "source": [
    "#Score model using unseen testing data\n",
    "print('Test score')\n",
    "model.score(X_test, y_test)"
   ]
  },
  {
   "cell_type": "code",
   "execution_count": 105,
   "metadata": {},
   "outputs": [
    {
     "name": "stdout",
     "output_type": "stream",
     "text": [
      "min: [[-17.33528757]]\n",
      "max: [[19.39814774]]\n",
      "coef: [[0.44832296]]\n",
      "interct: [1.08403281]\n"
     ]
    }
   ],
   "source": [
    "#Get coefficient and intercept of model\n",
    "x_min = np.array([[X.min()]])\n",
    "x_max = np.array([[X.max()]])\n",
    "print(f\"min: {x_min}\")\n",
    "print(f\"max: {x_max}\")\n",
    "print(f\"coef: {model.coef_}\")\n",
    "print(f\"interct: {model.intercept_}\")"
   ]
  },
  {
   "cell_type": "code",
   "execution_count": 106,
   "metadata": {},
   "outputs": [],
   "source": [
    "#Calculate y_min and y_max using model.predict and x_min and x_max\n",
    "y_min = model.predict(x_min)\n",
    "y_max = model.predict(x_max)"
   ]
  },
  {
   "cell_type": "code",
   "execution_count": 116,
   "metadata": {},
   "outputs": [
    {
     "data": {
      "image/png": "[encoded data removed]",
      "text/plain": [
       "<matplotlib.figure.Figure at 0x1a197dc6d8>"
      ]
     },
     "metadata": {},
     "output_type": "display_data"
    }
   ],
   "source": [
    "plt.scatter(X,y, s=5)\n",
    "plt.plot([x_min[0], x_max[0]], [y_min[0], y_max[0]], c= 'red')\n",
    "plt.ylim(0,6)\n",
    "plt.ylabel('Binned Star rating')\n",
    "plt.xlabel ('AFINN SA Score')\n",
    "plt.savefig('BinnedRating_SA_line.png', dpi=300)"
   ]
  },
  {
   "cell_type": "code",
   "execution_count": null,
   "metadata": {},
   "outputs": [],
   "source": []
  }
 ],
 "metadata": {
  "kernelspec": {
   "display_name": "Python 3",
   "language": "python",
   "name": "python3"
  },
  "language_info": {
   "codemirror_mode": {
    "name": "ipython",
    "version": 3
   },
   "file_extension": ".py",
   "mimetype": "text/x-python",
   "name": "python",
   "nbconvert_exporter": "python",
   "pygments_lexer": "ipython3",
   "version": "3.6.4"
  }
 },
 "nbformat": 4,
 "nbformat_minor": 2
}
