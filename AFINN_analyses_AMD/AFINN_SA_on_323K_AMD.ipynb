{
 "cells": [
  {
   "cell_type": "markdown",
   "metadata": {},
   "source": [
    "### AFINN Sentiment Analysis of Yelp review test - 321K records where users wrote 50 -100 reviews\n",
    "* AFINN Github repo - https://github.com/fnielsen/afinn/tree/master/afinn/data\n",
    "* AFINN 165 has 3382 entries \n",
    "* for browser based AFINN SA go to http://darenr.github.io/afinn/ "
   ]
  },
  {
   "cell_type": "code",
   "execution_count": 29,
   "metadata": {},
   "outputs": [],
   "source": [
    "import pandas as pd\n",
    "import numpy as np\n",
    "import matplotlib.pyplot as plt\n",
    "import math\n",
    "import re\n",
    "import sys"
   ]
  },
  {
   "cell_type": "code",
   "execution_count": 30,
   "metadata": {},
   "outputs": [],
   "source": [
    "Yelp_subsample= pd.read_csv('Resources/reviews_users_50-100.csv')"
   ]
  },
  {
   "cell_type": "code",
   "execution_count": 31,
   "metadata": {},
   "outputs": [
    {
     "data": {
      "text/plain": [
       "name            323310\n",
       "review_id       323310\n",
       "user_id         323310\n",
       "business_id     323310\n",
       "stars           323310\n",
       "text            323310\n",
       "date            323310\n",
       "review_count    323310\n",
       "word_count      323310\n",
       "dtype: int64"
      ]
     },
     "execution_count": 31,
     "metadata": {},
     "output_type": "execute_result"
    }
   ],
   "source": [
    "#New dataframe stats\n",
    "Yelp_subsample.head()\n",
    "Yelp_subsample.count() # 323,310 text records total\n",
    "# Yelp_subsample['user_id'].nunique() # 4,676\n",
    "# Yelp_subsample['business_id'].nunique() #50,642\n",
    "# Yelp_100Krandom=Yelp_subsample.sample(n=100000)"
   ]
  },
  {
   "cell_type": "code",
   "execution_count": 32,
   "metadata": {},
   "outputs": [],
   "source": [
    "def get_afinn_scores(file=\"AFINN/AFINN-en-165.txt\" or \"AFINN/AFINN-emoticon-8.txt\"): \n",
    "    afinn_file = open(file)\n",
    "    scores = {}\n",
    "    for line in afinn_file:\n",
    "      term, score  = line.split(\"\\t\")\n",
    "      scores[term] = int(score)\n",
    "    return(scores)"
   ]
  },
  {
   "cell_type": "code",
   "execution_count": 33,
   "metadata": {},
   "outputs": [],
   "source": [
    "import nltk\n",
    "afinn_scores = get_afinn_scores()\n",
    "yelp_text = Yelp_subsample['text'] \n",
    "\n",
    "total =[]\n",
    "score =[]\n",
    "for review in yelp_text:\n",
    "    review = str(review)\n",
    "  \n",
    "    #Tokenize the review\n",
    "    words = nltk.word_tokenize(review)\n",
    "    \n",
    "    #Get the total AFFIN score\n",
    "    total_score = 0\n",
    "    counter = 0\n",
    "    for w in words:\n",
    "        if w.lower() in afinn_scores:\n",
    "          total_score += afinn_scores[w.lower()]\n",
    "          counter += 1\n",
    "    total.append(total_score)\n",
    "    try:\n",
    "        normalized_sentiment = (total_score/math.sqrt(counter)) # based on # sentiment = float(sum(sentiments))/math.sqrt(len(sentiments))\n",
    "    except ZeroDivisionError:\n",
    "        normalized_sentiment = 0\n",
    "    score.append(normalized_sentiment)\n",
    "\n",
    "# Add new columns to dataframe\n",
    "Yelp_subsample['SAsum_score'] = total\n",
    "Yelp_subsample['SAnorm_score'] = score"
   ]
  },
  {
   "cell_type": "code",
   "execution_count": 35,
   "metadata": {},
   "outputs": [],
   "source": [
    "#Yelp_subsample.drop(['sum_score','norm_score'], axis=1, inplace=True)"
   ]
  },
  {
   "cell_type": "code",
   "execution_count": 36,
   "metadata": {},
   "outputs": [
    {
     "data": {
      "text/html": [
       "<div>\n",
       "<style scoped>\n",
       "    .dataframe tbody tr th:only-of-type {\n",
       "        vertical-align: middle;\n",
       "    }\n",
       "\n",
       "    .dataframe tbody tr th {\n",
       "        vertical-align: top;\n",
       "    }\n",
       "\n",
       "    .dataframe thead th {\n",
       "        text-align: right;\n",
       "    }\n",
       "</style>\n",
       "<table border=\"1\" class=\"dataframe\">\n",
       "  <thead>\n",
       "    <tr style=\"text-align: right;\">\n",
       "      <th></th>\n",
       "      <th>stars</th>\n",
       "      <th>review_count</th>\n",
       "      <th>word_count</th>\n",
       "      <th>SAsum_score</th>\n",
       "      <th>SAnorm_score</th>\n",
       "    </tr>\n",
       "  </thead>\n",
       "  <tbody>\n",
       "    <tr>\n",
       "      <th>count</th>\n",
       "      <td>323310.000000</td>\n",
       "      <td>323310.000000</td>\n",
       "      <td>323310.000000</td>\n",
       "      <td>323310.000000</td>\n",
       "      <td>323310.000000</td>\n",
       "    </tr>\n",
       "    <tr>\n",
       "      <th>mean</th>\n",
       "      <td>3.712227</td>\n",
       "      <td>71.869240</td>\n",
       "      <td>138.944632</td>\n",
       "      <td>13.634586</td>\n",
       "      <td>4.262965</td>\n",
       "    </tr>\n",
       "    <tr>\n",
       "      <th>std</th>\n",
       "      <td>1.131043</td>\n",
       "      <td>14.220856</td>\n",
       "      <td>112.224736</td>\n",
       "      <td>12.624809</td>\n",
       "      <td>2.911558</td>\n",
       "    </tr>\n",
       "    <tr>\n",
       "      <th>min</th>\n",
       "      <td>1.000000</td>\n",
       "      <td>51.000000</td>\n",
       "      <td>1.000000</td>\n",
       "      <td>-111.000000</td>\n",
       "      <td>-17.335288</td>\n",
       "    </tr>\n",
       "    <tr>\n",
       "      <th>25%</th>\n",
       "      <td>3.000000</td>\n",
       "      <td>59.000000</td>\n",
       "      <td>61.000000</td>\n",
       "      <td>6.000000</td>\n",
       "      <td>2.645751</td>\n",
       "    </tr>\n",
       "    <tr>\n",
       "      <th>50%</th>\n",
       "      <td>4.000000</td>\n",
       "      <td>70.000000</td>\n",
       "      <td>109.000000</td>\n",
       "      <td>12.000000</td>\n",
       "      <td>4.500000</td>\n",
       "    </tr>\n",
       "    <tr>\n",
       "      <th>75%</th>\n",
       "      <td>5.000000</td>\n",
       "      <td>83.000000</td>\n",
       "      <td>182.000000</td>\n",
       "      <td>19.000000</td>\n",
       "      <td>6.123724</td>\n",
       "    </tr>\n",
       "    <tr>\n",
       "      <th>max</th>\n",
       "      <td>5.000000</td>\n",
       "      <td>100.000000</td>\n",
       "      <td>1124.000000</td>\n",
       "      <td>178.000000</td>\n",
       "      <td>19.398148</td>\n",
       "    </tr>\n",
       "  </tbody>\n",
       "</table>\n",
       "</div>"
      ],
      "text/plain": [
       "               stars   review_count     word_count    SAsum_score  \\\n",
       "count  323310.000000  323310.000000  323310.000000  323310.000000   \n",
       "mean        3.712227      71.869240     138.944632      13.634586   \n",
       "std         1.131043      14.220856     112.224736      12.624809   \n",
       "min         1.000000      51.000000       1.000000    -111.000000   \n",
       "25%         3.000000      59.000000      61.000000       6.000000   \n",
       "50%         4.000000      70.000000     109.000000      12.000000   \n",
       "75%         5.000000      83.000000     182.000000      19.000000   \n",
       "max         5.000000     100.000000    1124.000000     178.000000   \n",
       "\n",
       "        SAnorm_score  \n",
       "count  323310.000000  \n",
       "mean        4.262965  \n",
       "std         2.911558  \n",
       "min       -17.335288  \n",
       "25%         2.645751  \n",
       "50%         4.500000  \n",
       "75%         6.123724  \n",
       "max        19.398148  "
      ]
     },
     "execution_count": 36,
     "metadata": {},
     "output_type": "execute_result"
    }
   ],
   "source": [
    "Yelp_subsample.describe()"
   ]
  },
  {
   "cell_type": "code",
   "execution_count": 37,
   "metadata": {},
   "outputs": [
    {
     "data": {
      "text/plain": [
       "Text(0,0.5,'Counts')"
      ]
     },
     "execution_count": 37,
     "metadata": {},
     "output_type": "execute_result"
    },
    {
     "data": {
      "image/png": "[encoded data removed]",
      "text/plain": [
       "<matplotlib.figure.Figure at 0x122d704e0>"
      ]
     },
     "metadata": {},
     "output_type": "display_data"
    }
   ],
   "source": [
    "#Visualize distribution of norm_score\n",
    "plt.style.use('ggplot')\n",
    "plt.hist(Yelp_subsample['SAnorm_score'], edgecolor='black', linewidth=1)\n",
    "plt.grid(True, ls = 'dashed')\n",
    "plt.xlabel('SA Score')\n",
    "plt.ylabel('Counts')"
   ]
  },
  {
   "cell_type": "code",
   "execution_count": 38,
   "metadata": {},
   "outputs": [
    {
     "name": "stdout",
     "output_type": "stream",
     "text": [
      "0.2     2.000000\n",
      "0.4     3.794733\n",
      "0.6     5.125693\n",
      "0.8     6.609222\n",
      "1.0    19.398148\n",
      "Name: SAnorm_score, dtype: float64\n"
     ]
    }
   ],
   "source": [
    "#Subdivide norm_scores into 5 bins\n",
    "print(Yelp_subsample['SAnorm_score'].quantile([0.2, 0.4, 0.6, 0.8, 1]))"
   ]
  },
  {
   "cell_type": "code",
   "execution_count": 39,
   "metadata": {},
   "outputs": [
    {
     "data": {
      "text/html": [
       "<div>\n",
       "<style scoped>\n",
       "    .dataframe tbody tr th:only-of-type {\n",
       "        vertical-align: middle;\n",
       "    }\n",
       "\n",
       "    .dataframe tbody tr th {\n",
       "        vertical-align: top;\n",
       "    }\n",
       "\n",
       "    .dataframe thead th {\n",
       "        text-align: right;\n",
       "    }\n",
       "</style>\n",
       "<table border=\"1\" class=\"dataframe\">\n",
       "  <thead>\n",
       "    <tr style=\"text-align: right;\">\n",
       "      <th></th>\n",
       "      <th>name</th>\n",
       "      <th>review_id</th>\n",
       "      <th>user_id</th>\n",
       "      <th>business_id</th>\n",
       "      <th>stars</th>\n",
       "      <th>text</th>\n",
       "      <th>date</th>\n",
       "      <th>review_count</th>\n",
       "      <th>word_count</th>\n",
       "      <th>SAsum_score</th>\n",
       "      <th>SAnorm_score</th>\n",
       "      <th>cat_stars</th>\n",
       "    </tr>\n",
       "  </thead>\n",
       "  <tbody>\n",
       "    <tr>\n",
       "      <th>323305</th>\n",
       "      <td>\"Ferraro's Italian Restaurant &amp; Wine Bar\"</td>\n",
       "      <td>T2dStTUnJFOQuYhJNvyEWg</td>\n",
       "      <td>a9UymHuKxZKMnHXOo3nLKA</td>\n",
       "      <td>DESv2ys6SjBKA4SyDtJvxw</td>\n",
       "      <td>5</td>\n",
       "      <td>Didn't even know this place existed, or its la...</td>\n",
       "      <td>2016-07-16</td>\n",
       "      <td>64</td>\n",
       "      <td>179</td>\n",
       "      <td>31</td>\n",
       "      <td>8.004166</td>\n",
       "      <td>5</td>\n",
       "    </tr>\n",
       "    <tr>\n",
       "      <th>323306</th>\n",
       "      <td>\"Noodles\"</td>\n",
       "      <td>Te76lXMFbdMwdjZ_QUYTDQ</td>\n",
       "      <td>a9UymHuKxZKMnHXOo3nLKA</td>\n",
       "      <td>CCRgGKhzxSpl38w7yhqKUw</td>\n",
       "      <td>5</td>\n",
       "      <td>I don't how this place has so few stars. Maybe...</td>\n",
       "      <td>2016-06-18</td>\n",
       "      <td>64</td>\n",
       "      <td>122</td>\n",
       "      <td>4</td>\n",
       "      <td>1.414214</td>\n",
       "      <td>1</td>\n",
       "    </tr>\n",
       "    <tr>\n",
       "      <th>323307</th>\n",
       "      <td>\"Sushi House Goyemon\"</td>\n",
       "      <td>Lmu5cgFFAcDFxIA0w8WObA</td>\n",
       "      <td>a9UymHuKxZKMnHXOo3nLKA</td>\n",
       "      <td>JyxHvtj-syke7m9rbza7mA</td>\n",
       "      <td>5</td>\n",
       "      <td>This place is usually always packed and we luc...</td>\n",
       "      <td>2016-05-26</td>\n",
       "      <td>64</td>\n",
       "      <td>180</td>\n",
       "      <td>19</td>\n",
       "      <td>4.050814</td>\n",
       "      <td>3</td>\n",
       "    </tr>\n",
       "    <tr>\n",
       "      <th>323308</th>\n",
       "      <td>\"Yellowtail\"</td>\n",
       "      <td>cPp2sAxSF-4vfQqex5If5g</td>\n",
       "      <td>a9UymHuKxZKMnHXOo3nLKA</td>\n",
       "      <td>Dxaz8OxaadecnWol18kAtw</td>\n",
       "      <td>4</td>\n",
       "      <td>I've always loved yellowtail... Just not yello...</td>\n",
       "      <td>2015-12-17</td>\n",
       "      <td>64</td>\n",
       "      <td>256</td>\n",
       "      <td>27</td>\n",
       "      <td>6.971370</td>\n",
       "      <td>5</td>\n",
       "    </tr>\n",
       "    <tr>\n",
       "      <th>323309</th>\n",
       "      <td>\"Sushi Neko\"</td>\n",
       "      <td>6OBNWpnPR87iBdca4ZtODA</td>\n",
       "      <td>a9UymHuKxZKMnHXOo3nLKA</td>\n",
       "      <td>ghVhlFpNhfBwWDFGSlt2JA</td>\n",
       "      <td>5</td>\n",
       "      <td>This has quickly became a favorite spot for me...</td>\n",
       "      <td>2017-07-26</td>\n",
       "      <td>64</td>\n",
       "      <td>71</td>\n",
       "      <td>7</td>\n",
       "      <td>3.130495</td>\n",
       "      <td>2</td>\n",
       "    </tr>\n",
       "  </tbody>\n",
       "</table>\n",
       "</div>"
      ],
      "text/plain": [
       "                                             name               review_id  \\\n",
       "323305  \"Ferraro's Italian Restaurant & Wine Bar\"  T2dStTUnJFOQuYhJNvyEWg   \n",
       "323306                                  \"Noodles\"  Te76lXMFbdMwdjZ_QUYTDQ   \n",
       "323307                      \"Sushi House Goyemon\"  Lmu5cgFFAcDFxIA0w8WObA   \n",
       "323308                               \"Yellowtail\"  cPp2sAxSF-4vfQqex5If5g   \n",
       "323309                               \"Sushi Neko\"  6OBNWpnPR87iBdca4ZtODA   \n",
       "\n",
       "                       user_id             business_id  stars  \\\n",
       "323305  a9UymHuKxZKMnHXOo3nLKA  DESv2ys6SjBKA4SyDtJvxw      5   \n",
       "323306  a9UymHuKxZKMnHXOo3nLKA  CCRgGKhzxSpl38w7yhqKUw      5   \n",
       "323307  a9UymHuKxZKMnHXOo3nLKA  JyxHvtj-syke7m9rbza7mA      5   \n",
       "323308  a9UymHuKxZKMnHXOo3nLKA  Dxaz8OxaadecnWol18kAtw      4   \n",
       "323309  a9UymHuKxZKMnHXOo3nLKA  ghVhlFpNhfBwWDFGSlt2JA      5   \n",
       "\n",
       "                                                     text        date  \\\n",
       "323305  Didn't even know this place existed, or its la...  2016-07-16   \n",
       "323306  I don't how this place has so few stars. Maybe...  2016-06-18   \n",
       "323307  This place is usually always packed and we luc...  2016-05-26   \n",
       "323308  I've always loved yellowtail... Just not yello...  2015-12-17   \n",
       "323309  This has quickly became a favorite spot for me...  2017-07-26   \n",
       "\n",
       "        review_count  word_count  SAsum_score  SAnorm_score cat_stars  \n",
       "323305            64         179           31      8.004166         5  \n",
       "323306            64         122            4      1.414214         1  \n",
       "323307            64         180           19      4.050814         3  \n",
       "323308            64         256           27      6.971370         5  \n",
       "323309            64          71            7      3.130495         2  "
      ]
     },
     "execution_count": 39,
     "metadata": {},
     "output_type": "execute_result"
    }
   ],
   "source": [
    "#Split data into 5 bins based on normalized score\n",
    "bins = [-17.40, 2.00, 3.80, 5.13, 6.61, 19.40]\n",
    "bin_stars = [1,2,3,4,5]\n",
    "pd.cut(Yelp_subsample['SAnorm_score'], bins, labels = bin_stars)\n",
    "Yelp_subsample['cat_stars'] = pd.cut(Yelp_subsample['SAnorm_score'], bins, labels=bin_stars)\n",
    "Yelp_new_rating=Yelp_subsample\n",
    "Yelp_new_rating.tail()"
   ]
  },
  {
   "cell_type": "code",
   "execution_count": 47,
   "metadata": {},
   "outputs": [
    {
     "data": {
      "text/html": [
       "<div>\n",
       "<style scoped>\n",
       "    .dataframe tbody tr th:only-of-type {\n",
       "        vertical-align: middle;\n",
       "    }\n",
       "\n",
       "    .dataframe tbody tr th {\n",
       "        vertical-align: top;\n",
       "    }\n",
       "\n",
       "    .dataframe thead th {\n",
       "        text-align: right;\n",
       "    }\n",
       "</style>\n",
       "<table border=\"1\" class=\"dataframe\">\n",
       "  <thead>\n",
       "    <tr style=\"text-align: right;\">\n",
       "      <th></th>\n",
       "      <th>name</th>\n",
       "      <th>review_id</th>\n",
       "      <th>user_id</th>\n",
       "      <th>business_id</th>\n",
       "      <th>stars</th>\n",
       "      <th>text</th>\n",
       "      <th>date</th>\n",
       "      <th>review_count</th>\n",
       "      <th>word_count</th>\n",
       "      <th>SAsum_score</th>\n",
       "      <th>SAnorm_score</th>\n",
       "      <th>cat_stars</th>\n",
       "    </tr>\n",
       "  </thead>\n",
       "  <tbody>\n",
       "    <tr>\n",
       "      <th>3542</th>\n",
       "      <td>\"Windsor Arms Hotel Tea Room\"</td>\n",
       "      <td>NHuuLXPWt9d9JXmptz3zjg</td>\n",
       "      <td>GXVEhnIM1CpiGj9TZehxGw</td>\n",
       "      <td>GjQBLRtmq8cJjekipzJ49g</td>\n",
       "      <td>1</td>\n",
       "      <td>I went here through a friends groupon coupon a...</td>\n",
       "      <td>2013-07-03</td>\n",
       "      <td>84</td>\n",
       "      <td>489</td>\n",
       "      <td>50</td>\n",
       "      <td>8.703883</td>\n",
       "      <td>5</td>\n",
       "    </tr>\n",
       "  </tbody>\n",
       "</table>\n",
       "</div>"
      ],
      "text/plain": [
       "                               name               review_id  \\\n",
       "3542  \"Windsor Arms Hotel Tea Room\"  NHuuLXPWt9d9JXmptz3zjg   \n",
       "\n",
       "                     user_id             business_id  stars  \\\n",
       "3542  GXVEhnIM1CpiGj9TZehxGw  GjQBLRtmq8cJjekipzJ49g      1   \n",
       "\n",
       "                                                   text        date  \\\n",
       "3542  I went here through a friends groupon coupon a...  2013-07-03   \n",
       "\n",
       "      review_count  word_count  SAsum_score  SAnorm_score cat_stars  \n",
       "3542            84         489           50      8.703883         5  "
      ]
     },
     "execution_count": 47,
     "metadata": {},
     "output_type": "execute_result"
    }
   ],
   "source": [
    "#Review Sample 1\n",
    "Yelp_new_rating[Yelp_new_rating['review_id'] == 'NHuuLXPWt9d9JXmptz3zjg']"
   ]
  },
  {
   "cell_type": "code",
   "execution_count": 48,
   "metadata": {},
   "outputs": [
    {
     "data": {
      "text/html": [
       "<div>\n",
       "<style scoped>\n",
       "    .dataframe tbody tr th:only-of-type {\n",
       "        vertical-align: middle;\n",
       "    }\n",
       "\n",
       "    .dataframe tbody tr th {\n",
       "        vertical-align: top;\n",
       "    }\n",
       "\n",
       "    .dataframe thead th {\n",
       "        text-align: right;\n",
       "    }\n",
       "</style>\n",
       "<table border=\"1\" class=\"dataframe\">\n",
       "  <thead>\n",
       "    <tr style=\"text-align: right;\">\n",
       "      <th></th>\n",
       "      <th>name</th>\n",
       "      <th>review_id</th>\n",
       "      <th>user_id</th>\n",
       "      <th>business_id</th>\n",
       "      <th>stars</th>\n",
       "      <th>text</th>\n",
       "      <th>date</th>\n",
       "      <th>review_count</th>\n",
       "      <th>word_count</th>\n",
       "      <th>SAsum_score</th>\n",
       "      <th>SAnorm_score</th>\n",
       "      <th>cat_stars</th>\n",
       "    </tr>\n",
       "  </thead>\n",
       "  <tbody>\n",
       "    <tr>\n",
       "      <th>274040</th>\n",
       "      <td>\"Phil's Filling Station Grill\"</td>\n",
       "      <td>jot5d7YV142F6CkRj4NwuQ</td>\n",
       "      <td>A-5DQIIb1YfQEBmabv-6Fw</td>\n",
       "      <td>-FrgepJj0h-OWU1CupUrOQ</td>\n",
       "      <td>2</td>\n",
       "      <td>Luv the atmosphere, great setting for breakfas...</td>\n",
       "      <td>2014-12-13</td>\n",
       "      <td>62</td>\n",
       "      <td>64</td>\n",
       "      <td>13</td>\n",
       "      <td>5.307228</td>\n",
       "      <td>4</td>\n",
       "    </tr>\n",
       "  </tbody>\n",
       "</table>\n",
       "</div>"
      ],
      "text/plain": [
       "                                  name               review_id  \\\n",
       "274040  \"Phil's Filling Station Grill\"  jot5d7YV142F6CkRj4NwuQ   \n",
       "\n",
       "                       user_id             business_id  stars  \\\n",
       "274040  A-5DQIIb1YfQEBmabv-6Fw  -FrgepJj0h-OWU1CupUrOQ      2   \n",
       "\n",
       "                                                     text        date  \\\n",
       "274040  Luv the atmosphere, great setting for breakfas...  2014-12-13   \n",
       "\n",
       "        review_count  word_count  SAsum_score  SAnorm_score cat_stars  \n",
       "274040            62          64           13      5.307228         4  "
      ]
     },
     "execution_count": 48,
     "metadata": {},
     "output_type": "execute_result"
    }
   ],
   "source": [
    "#Review sample 2\n",
    "Yelp_new_rating[Yelp_new_rating['review_id'] == 'jot5d7YV142F6CkRj4NwuQ'] "
   ]
  },
  {
   "cell_type": "code",
   "execution_count": 49,
   "metadata": {},
   "outputs": [
    {
     "data": {
      "text/html": [
       "<div>\n",
       "<style scoped>\n",
       "    .dataframe tbody tr th:only-of-type {\n",
       "        vertical-align: middle;\n",
       "    }\n",
       "\n",
       "    .dataframe tbody tr th {\n",
       "        vertical-align: top;\n",
       "    }\n",
       "\n",
       "    .dataframe thead th {\n",
       "        text-align: right;\n",
       "    }\n",
       "</style>\n",
       "<table border=\"1\" class=\"dataframe\">\n",
       "  <thead>\n",
       "    <tr style=\"text-align: right;\">\n",
       "      <th></th>\n",
       "      <th>name</th>\n",
       "      <th>review_id</th>\n",
       "      <th>user_id</th>\n",
       "      <th>business_id</th>\n",
       "      <th>stars</th>\n",
       "      <th>text</th>\n",
       "      <th>date</th>\n",
       "      <th>review_count</th>\n",
       "      <th>word_count</th>\n",
       "      <th>SAsum_score</th>\n",
       "      <th>SAnorm_score</th>\n",
       "      <th>cat_stars</th>\n",
       "    </tr>\n",
       "  </thead>\n",
       "  <tbody>\n",
       "    <tr>\n",
       "      <th>105</th>\n",
       "      <td>\"Chowder House Cafe\"</td>\n",
       "      <td>337t1tUUyg6ydOfjACwBNg</td>\n",
       "      <td>8XN-mq5ZLx1oXYI0IJcW0Q</td>\n",
       "      <td>2JsLzYF8rUalwpm5LDEcog</td>\n",
       "      <td>3</td>\n",
       "      <td>Dingy atmosphere, and the food was mediocre. T...</td>\n",
       "      <td>2014-08-09</td>\n",
       "      <td>54</td>\n",
       "      <td>25</td>\n",
       "      <td>5</td>\n",
       "      <td>3.535534</td>\n",
       "      <td>2</td>\n",
       "    </tr>\n",
       "  </tbody>\n",
       "</table>\n",
       "</div>"
      ],
      "text/plain": [
       "                     name               review_id                 user_id  \\\n",
       "105  \"Chowder House Cafe\"  337t1tUUyg6ydOfjACwBNg  8XN-mq5ZLx1oXYI0IJcW0Q   \n",
       "\n",
       "                business_id  stars  \\\n",
       "105  2JsLzYF8rUalwpm5LDEcog      3   \n",
       "\n",
       "                                                  text        date  \\\n",
       "105  Dingy atmosphere, and the food was mediocre. T...  2014-08-09   \n",
       "\n",
       "     review_count  word_count  SAsum_score  SAnorm_score cat_stars  \n",
       "105            54          25            5      3.535534         2  "
      ]
     },
     "execution_count": 49,
     "metadata": {},
     "output_type": "execute_result"
    }
   ],
   "source": [
    "#Review sample 3\n",
    "Yelp_new_rating[Yelp_new_rating['review_id'] == '337t1tUUyg6ydOfjACwBNg']"
   ]
  },
  {
   "cell_type": "code",
   "execution_count": 36,
   "metadata": {},
   "outputs": [
    {
     "data": {
      "text/plain": [
       "name              object\n",
       "review_id         object\n",
       "user_id           object\n",
       "business_id       object\n",
       "stars              int64\n",
       "text              object\n",
       "date              object\n",
       "review_count       int64\n",
       "word_count         int64\n",
       "cat_stars       category\n",
       "value_stars         int8\n",
       "SAsum_score        int64\n",
       "SAnorm_score     float64\n",
       "dtype: object"
      ]
     },
     "execution_count": 36,
     "metadata": {},
     "output_type": "execute_result"
    }
   ],
   "source": [
    "Yelp_new_rating.dtypes"
   ]
  },
  {
   "cell_type": "code",
   "execution_count": 187,
   "metadata": {},
   "outputs": [
    {
     "data": {
      "text/html": [
       "<div>\n",
       "<style scoped>\n",
       "    .dataframe tbody tr th:only-of-type {\n",
       "        vertical-align: middle;\n",
       "    }\n",
       "\n",
       "    .dataframe tbody tr th {\n",
       "        vertical-align: top;\n",
       "    }\n",
       "\n",
       "    .dataframe thead th {\n",
       "        text-align: right;\n",
       "    }\n",
       "</style>\n",
       "<table border=\"1\" class=\"dataframe\">\n",
       "  <thead>\n",
       "    <tr style=\"text-align: right;\">\n",
       "      <th></th>\n",
       "      <th>name</th>\n",
       "      <th>review_id</th>\n",
       "      <th>user_id</th>\n",
       "      <th>business_id</th>\n",
       "      <th>stars</th>\n",
       "      <th>text</th>\n",
       "      <th>date</th>\n",
       "      <th>review_count</th>\n",
       "      <th>word_count</th>\n",
       "      <th>cat_stars</th>\n",
       "      <th>value_stars</th>\n",
       "      <th>SAsum_score</th>\n",
       "      <th>SAnorm_score</th>\n",
       "    </tr>\n",
       "  </thead>\n",
       "  <tbody>\n",
       "    <tr>\n",
       "      <th>0</th>\n",
       "      <td>\"Brick House Tavern + Tap\"</td>\n",
       "      <td>ZflgoahrEd1_H0tWSATjQw</td>\n",
       "      <td>KgQnRvsPSrJJTOCp-reYZA</td>\n",
       "      <td>PfOCPjBrlQAnz__NXj9h_w</td>\n",
       "      <td>4</td>\n",
       "      <td>Eating on couches or lounging in comfy recline...</td>\n",
       "      <td>2016-02-27</td>\n",
       "      <td>57</td>\n",
       "      <td>127</td>\n",
       "      <td>5</td>\n",
       "      <td>5</td>\n",
       "      <td>22</td>\n",
       "      <td>7.778175</td>\n",
       "    </tr>\n",
       "    <tr>\n",
       "      <th>1</th>\n",
       "      <td>\"Whole Foods Market\"</td>\n",
       "      <td>JjJyUhnLtX5aZWVJfSeLKA</td>\n",
       "      <td>KgQnRvsPSrJJTOCp-reYZA</td>\n",
       "      <td>NFv21m2Czqz2XM5G4kpbKg</td>\n",
       "      <td>3</td>\n",
       "      <td>Convienent easy parking, though I had to avoid...</td>\n",
       "      <td>2016-12-27</td>\n",
       "      <td>57</td>\n",
       "      <td>128</td>\n",
       "      <td>1</td>\n",
       "      <td>1</td>\n",
       "      <td>5</td>\n",
       "      <td>1.581139</td>\n",
       "    </tr>\n",
       "    <tr>\n",
       "      <th>2</th>\n",
       "      <td>\"Crave Cantina\"</td>\n",
       "      <td>hQu_gojfKPm8C0yovoszhQ</td>\n",
       "      <td>KgQnRvsPSrJJTOCp-reYZA</td>\n",
       "      <td>OFaMjL9nLF-A51KHNW8nfg</td>\n",
       "      <td>5</td>\n",
       "      <td>I usually go somewhere local twice before writ...</td>\n",
       "      <td>2017-07-01</td>\n",
       "      <td>57</td>\n",
       "      <td>190</td>\n",
       "      <td>4</td>\n",
       "      <td>4</td>\n",
       "      <td>23</td>\n",
       "      <td>6.147009</td>\n",
       "    </tr>\n",
       "    <tr>\n",
       "      <th>3</th>\n",
       "      <td>\"Newdle Bar\"</td>\n",
       "      <td>0n1w0w1VsRF4eqeqZHnX4g</td>\n",
       "      <td>KgQnRvsPSrJJTOCp-reYZA</td>\n",
       "      <td>XHK_1UM4CBZQ7RemDFr1mQ</td>\n",
       "      <td>3</td>\n",
       "      <td>Meh...don't come here if you are looking for a...</td>\n",
       "      <td>2016-08-11</td>\n",
       "      <td>57</td>\n",
       "      <td>98</td>\n",
       "      <td>1</td>\n",
       "      <td>1</td>\n",
       "      <td>1</td>\n",
       "      <td>0.447214</td>\n",
       "    </tr>\n",
       "    <tr>\n",
       "      <th>4</th>\n",
       "      <td>\"Cornerstone Market &amp; Deli\"</td>\n",
       "      <td>PAldTKppEliQBy3M5vxtlg</td>\n",
       "      <td>KgQnRvsPSrJJTOCp-reYZA</td>\n",
       "      <td>eZ423jsTh3g9QTt2w-UTyg</td>\n",
       "      <td>5</td>\n",
       "      <td>This place is a gem...I was so glad they reope...</td>\n",
       "      <td>2016-08-17</td>\n",
       "      <td>57</td>\n",
       "      <td>106</td>\n",
       "      <td>3</td>\n",
       "      <td>3</td>\n",
       "      <td>18</td>\n",
       "      <td>4.992302</td>\n",
       "    </tr>\n",
       "  </tbody>\n",
       "</table>\n",
       "</div>"
      ],
      "text/plain": [
       "                          name               review_id  \\\n",
       "0   \"Brick House Tavern + Tap\"  ZflgoahrEd1_H0tWSATjQw   \n",
       "1         \"Whole Foods Market\"  JjJyUhnLtX5aZWVJfSeLKA   \n",
       "2              \"Crave Cantina\"  hQu_gojfKPm8C0yovoszhQ   \n",
       "3                 \"Newdle Bar\"  0n1w0w1VsRF4eqeqZHnX4g   \n",
       "4  \"Cornerstone Market & Deli\"  PAldTKppEliQBy3M5vxtlg   \n",
       "\n",
       "                  user_id             business_id  stars  \\\n",
       "0  KgQnRvsPSrJJTOCp-reYZA  PfOCPjBrlQAnz__NXj9h_w      4   \n",
       "1  KgQnRvsPSrJJTOCp-reYZA  NFv21m2Czqz2XM5G4kpbKg      3   \n",
       "2  KgQnRvsPSrJJTOCp-reYZA  OFaMjL9nLF-A51KHNW8nfg      5   \n",
       "3  KgQnRvsPSrJJTOCp-reYZA  XHK_1UM4CBZQ7RemDFr1mQ      3   \n",
       "4  KgQnRvsPSrJJTOCp-reYZA  eZ423jsTh3g9QTt2w-UTyg      5   \n",
       "\n",
       "                                                text        date  \\\n",
       "0  Eating on couches or lounging in comfy recline...  2016-02-27   \n",
       "1  Convienent easy parking, though I had to avoid...  2016-12-27   \n",
       "2  I usually go somewhere local twice before writ...  2017-07-01   \n",
       "3  Meh...don't come here if you are looking for a...  2016-08-11   \n",
       "4  This place is a gem...I was so glad they reope...  2016-08-17   \n",
       "\n",
       "   review_count  word_count cat_stars  value_stars  SAsum_score  SAnorm_score  \n",
       "0            57         127         5            5           22      7.778175  \n",
       "1            57         128         1            1            5      1.581139  \n",
       "2            57         190         4            4           23      6.147009  \n",
       "3            57          98         1            1            1      0.447214  \n",
       "4            57         106         3            3           18      4.992302  "
      ]
     },
     "execution_count": 187,
     "metadata": {},
     "output_type": "execute_result"
    }
   ],
   "source": [
    "#Converting categories in bin_stars into integers in set_stars so that new bins can be plotted\n",
    "#Delete extra columns\n",
    "#Not sure why conversion to integers started at 0 so I added +1\n",
    "Yelp_new_rating['value_stars']= pd.Categorical(Yelp_new_rating.cat_stars).codes + 1\n",
    "Yelp_new_rating.head()"
   ]
  },
  {
   "cell_type": "code",
   "execution_count": 202,
   "metadata": {},
   "outputs": [],
   "source": [
    "#print(Yelp_new_rating.query('stars ==5').text)"
   ]
  },
  {
   "cell_type": "code",
   "execution_count": 38,
   "metadata": {},
   "outputs": [
    {
     "data": {
      "text/html": [
       "<div>\n",
       "<style scoped>\n",
       "    .dataframe tbody tr th:only-of-type {\n",
       "        vertical-align: middle;\n",
       "    }\n",
       "\n",
       "    .dataframe tbody tr th {\n",
       "        vertical-align: top;\n",
       "    }\n",
       "\n",
       "    .dataframe thead th {\n",
       "        text-align: right;\n",
       "    }\n",
       "</style>\n",
       "<table border=\"1\" class=\"dataframe\">\n",
       "  <thead>\n",
       "    <tr style=\"text-align: right;\">\n",
       "      <th></th>\n",
       "      <th>stars</th>\n",
       "      <th>review_count</th>\n",
       "      <th>word_count</th>\n",
       "      <th>value_stars</th>\n",
       "      <th>SAsum_score</th>\n",
       "      <th>SAnorm_score</th>\n",
       "    </tr>\n",
       "  </thead>\n",
       "  <tbody>\n",
       "    <tr>\n",
       "      <th>count</th>\n",
       "      <td>323310.000000</td>\n",
       "      <td>323310.000000</td>\n",
       "      <td>323310.000000</td>\n",
       "      <td>323310.000000</td>\n",
       "      <td>323310.000000</td>\n",
       "      <td>323310.000000</td>\n",
       "    </tr>\n",
       "    <tr>\n",
       "      <th>mean</th>\n",
       "      <td>3.712227</td>\n",
       "      <td>71.869240</td>\n",
       "      <td>138.944632</td>\n",
       "      <td>2.994606</td>\n",
       "      <td>13.634586</td>\n",
       "      <td>4.262965</td>\n",
       "    </tr>\n",
       "    <tr>\n",
       "      <th>std</th>\n",
       "      <td>1.131043</td>\n",
       "      <td>14.220856</td>\n",
       "      <td>112.224736</td>\n",
       "      <td>1.416603</td>\n",
       "      <td>12.624809</td>\n",
       "      <td>2.911558</td>\n",
       "    </tr>\n",
       "    <tr>\n",
       "      <th>min</th>\n",
       "      <td>1.000000</td>\n",
       "      <td>51.000000</td>\n",
       "      <td>1.000000</td>\n",
       "      <td>1.000000</td>\n",
       "      <td>-111.000000</td>\n",
       "      <td>-17.335288</td>\n",
       "    </tr>\n",
       "    <tr>\n",
       "      <th>25%</th>\n",
       "      <td>3.000000</td>\n",
       "      <td>59.000000</td>\n",
       "      <td>61.000000</td>\n",
       "      <td>2.000000</td>\n",
       "      <td>6.000000</td>\n",
       "      <td>2.645751</td>\n",
       "    </tr>\n",
       "    <tr>\n",
       "      <th>50%</th>\n",
       "      <td>4.000000</td>\n",
       "      <td>70.000000</td>\n",
       "      <td>109.000000</td>\n",
       "      <td>3.000000</td>\n",
       "      <td>12.000000</td>\n",
       "      <td>4.500000</td>\n",
       "    </tr>\n",
       "    <tr>\n",
       "      <th>75%</th>\n",
       "      <td>5.000000</td>\n",
       "      <td>83.000000</td>\n",
       "      <td>182.000000</td>\n",
       "      <td>4.000000</td>\n",
       "      <td>19.000000</td>\n",
       "      <td>6.123724</td>\n",
       "    </tr>\n",
       "    <tr>\n",
       "      <th>max</th>\n",
       "      <td>5.000000</td>\n",
       "      <td>100.000000</td>\n",
       "      <td>1124.000000</td>\n",
       "      <td>5.000000</td>\n",
       "      <td>178.000000</td>\n",
       "      <td>19.398148</td>\n",
       "    </tr>\n",
       "  </tbody>\n",
       "</table>\n",
       "</div>"
      ],
      "text/plain": [
       "               stars   review_count     word_count    value_stars  \\\n",
       "count  323310.000000  323310.000000  323310.000000  323310.000000   \n",
       "mean        3.712227      71.869240     138.944632       2.994606   \n",
       "std         1.131043      14.220856     112.224736       1.416603   \n",
       "min         1.000000      51.000000       1.000000       1.000000   \n",
       "25%         3.000000      59.000000      61.000000       2.000000   \n",
       "50%         4.000000      70.000000     109.000000       3.000000   \n",
       "75%         5.000000      83.000000     182.000000       4.000000   \n",
       "max         5.000000     100.000000    1124.000000       5.000000   \n",
       "\n",
       "         SAsum_score   SAnorm_score  \n",
       "count  323310.000000  323310.000000  \n",
       "mean       13.634586       4.262965  \n",
       "std        12.624809       2.911558  \n",
       "min      -111.000000     -17.335288  \n",
       "25%         6.000000       2.645751  \n",
       "50%        12.000000       4.500000  \n",
       "75%        19.000000       6.123724  \n",
       "max       178.000000      19.398148  "
      ]
     },
     "execution_count": 38,
     "metadata": {},
     "output_type": "execute_result"
    }
   ],
   "source": [
    "Yelp_new_rating.describe()"
   ]
  },
  {
   "cell_type": "code",
   "execution_count": 123,
   "metadata": {},
   "outputs": [
    {
     "data": {
      "text/plain": [
       "(0, 6)"
      ]
     },
     "execution_count": 123,
     "metadata": {},
     "output_type": "execute_result"
    },
    {
     "data": {
      "image/png": "[encoded data removed]",
      "text/plain": [
       "<matplotlib.figure.Figure at 0x1a2cf43d68>"
      ]
     },
     "metadata": {},
     "output_type": "display_data"
    }
   ],
   "source": [
    "#Visualize distribution of norm_score\n",
    "plt.style.use('ggplot')\n",
    "plt.hist(Yelp_new_rating['value_stars'], edgecolor='black', linewidth=1)\n",
    "plt.grid(True, ls = 'dashed')\n",
    "plt.xlabel('Binned Star Rating')\n",
    "plt.ylabel('Counts')\n",
    "plt.xlim(0,6)"
   ]
  },
  {
   "cell_type": "code",
   "execution_count": 122,
   "metadata": {},
   "outputs": [
    {
     "data": {
      "text/plain": [
       "Text(0,0.5,'SA Score')"
      ]
     },
     "execution_count": 122,
     "metadata": {},
     "output_type": "execute_result"
    },
    {
     "data": {
      "image/png": "[encoded data removed]",
      "text/plain": [
       "<matplotlib.figure.Figure at 0x1a2cb39f98>"
      ]
     },
     "metadata": {},
     "output_type": "display_data"
    }
   ],
   "source": [
    "#Scatterplot set_stars vs. norm_score\n",
    "plt.scatter(Yelp_new_rating['value_stars'], Yelp_new_rating['SAnorm_score'], color = 'firebrick')\n",
    "plt.xlabel('Binned Star Rating')\n",
    "plt.ylabel('SA Score')"
   ]
  },
  {
   "cell_type": "code",
   "execution_count": 206,
   "metadata": {},
   "outputs": [
    {
     "data": {
      "image/png": "[encoded data removed]",
      "text/plain": [
       "<matplotlib.figure.Figure at 0x1a2cd0b198>"
      ]
     },
     "metadata": {},
     "output_type": "display_data"
    }
   ],
   "source": [
    "plt.scatter(Yelp_new_rating['stars'], Yelp_new_rating['SAnorm_score'], color= 'firebrick')\n",
    "plt.xlabel('User Star Rating')\n",
    "plt.ylabel('SA Score')\n",
    "plt.savefig('SA_UserRating_Scatter.png', dpi = 300)"
   ]
  },
  {
   "cell_type": "code",
   "execution_count": 43,
   "metadata": {},
   "outputs": [],
   "source": [
    "#Export BinnedStar data to CSV\n",
    "BinnedStars=Yelp_new_rating[['SAnorm_score', 'value_stars']]\n",
    "BinnedStars.head()\n",
    "BinnedStars.to_csv('Resources/BinnedStars.csv', index=False)"
   ]
  },
  {
   "cell_type": "code",
   "execution_count": 44,
   "metadata": {},
   "outputs": [],
   "source": [
    "#Export UserStar data to CSV\n",
    "UserStars=Yelp_new_rating[['SAnorm_score', 'stars']]\n",
    "UserStars.head()\n",
    "UserStars.to_csv('Resources/UserStars.csv', index=False)"
   ]
  },
  {
   "cell_type": "code",
   "execution_count": 45,
   "metadata": {},
   "outputs": [],
   "source": [
    "#Export multiple variables to CSV - NEED TO CALCULATE WORD COUNT TO GET THIS\n",
    "MultiVariables=Yelp_new_rating[['user_id','word_count','review_count','SAnorm_score','stars','value_stars']]\n",
    "MultiVariables.head()\n",
    "MultiVariables.to_csv('Resources/MultiVariables.csv', index=False)"
   ]
  },
  {
   "cell_type": "code",
   "execution_count": 117,
   "metadata": {},
   "outputs": [
    {
     "data": {
      "image/png": "[encoded data removed]",
      "text/plain": [
       "<matplotlib.figure.Figure at 0x1a2cf62240>"
      ]
     },
     "metadata": {},
     "output_type": "display_data"
    }
   ],
   "source": [
    "#Visualize distribution of star vs value_stars\n",
    "x = Yelp_subsample['stars'] #blue\n",
    "y = Yelp_subsample['value_stars'] #green\n",
    "plt.hist([x, y])\n",
    "plt.xlabel('Star Rating')\n",
    "plt.ylabel('Counts')\n",
    "plt.show()"
   ]
  },
  {
   "cell_type": "code",
   "execution_count": 48,
   "metadata": {},
   "outputs": [
    {
     "data": {
      "text/html": [
       "<div>\n",
       "<style scoped>\n",
       "    .dataframe tbody tr th:only-of-type {\n",
       "        vertical-align: middle;\n",
       "    }\n",
       "\n",
       "    .dataframe tbody tr th {\n",
       "        vertical-align: top;\n",
       "    }\n",
       "\n",
       "    .dataframe thead th {\n",
       "        text-align: right;\n",
       "    }\n",
       "</style>\n",
       "<table border=\"1\" class=\"dataframe\">\n",
       "  <thead>\n",
       "    <tr style=\"text-align: right;\">\n",
       "      <th></th>\n",
       "      <th>name</th>\n",
       "      <th>review_id</th>\n",
       "      <th>user_id</th>\n",
       "      <th>business_id</th>\n",
       "      <th>stars</th>\n",
       "      <th>text</th>\n",
       "      <th>date</th>\n",
       "      <th>review_count</th>\n",
       "      <th>word_count</th>\n",
       "      <th>cat_stars</th>\n",
       "      <th>value_stars</th>\n",
       "      <th>SAsum_score</th>\n",
       "      <th>SAnorm_score</th>\n",
       "    </tr>\n",
       "  </thead>\n",
       "  <tbody>\n",
       "    <tr>\n",
       "      <th>0</th>\n",
       "      <td>\"Brick House Tavern + Tap\"</td>\n",
       "      <td>ZflgoahrEd1_H0tWSATjQw</td>\n",
       "      <td>KgQnRvsPSrJJTOCp-reYZA</td>\n",
       "      <td>PfOCPjBrlQAnz__NXj9h_w</td>\n",
       "      <td>4</td>\n",
       "      <td>Eating on couches or lounging in comfy recline...</td>\n",
       "      <td>2016-02-27</td>\n",
       "      <td>57</td>\n",
       "      <td>127</td>\n",
       "      <td>5</td>\n",
       "      <td>5</td>\n",
       "      <td>22</td>\n",
       "      <td>7.778175</td>\n",
       "    </tr>\n",
       "    <tr>\n",
       "      <th>1</th>\n",
       "      <td>\"Whole Foods Market\"</td>\n",
       "      <td>JjJyUhnLtX5aZWVJfSeLKA</td>\n",
       "      <td>KgQnRvsPSrJJTOCp-reYZA</td>\n",
       "      <td>NFv21m2Czqz2XM5G4kpbKg</td>\n",
       "      <td>3</td>\n",
       "      <td>Convienent easy parking, though I had to avoid...</td>\n",
       "      <td>2016-12-27</td>\n",
       "      <td>57</td>\n",
       "      <td>128</td>\n",
       "      <td>1</td>\n",
       "      <td>1</td>\n",
       "      <td>5</td>\n",
       "      <td>1.581139</td>\n",
       "    </tr>\n",
       "    <tr>\n",
       "      <th>2</th>\n",
       "      <td>\"Crave Cantina\"</td>\n",
       "      <td>hQu_gojfKPm8C0yovoszhQ</td>\n",
       "      <td>KgQnRvsPSrJJTOCp-reYZA</td>\n",
       "      <td>OFaMjL9nLF-A51KHNW8nfg</td>\n",
       "      <td>5</td>\n",
       "      <td>I usually go somewhere local twice before writ...</td>\n",
       "      <td>2017-07-01</td>\n",
       "      <td>57</td>\n",
       "      <td>190</td>\n",
       "      <td>4</td>\n",
       "      <td>4</td>\n",
       "      <td>23</td>\n",
       "      <td>6.147009</td>\n",
       "    </tr>\n",
       "    <tr>\n",
       "      <th>3</th>\n",
       "      <td>\"Newdle Bar\"</td>\n",
       "      <td>0n1w0w1VsRF4eqeqZHnX4g</td>\n",
       "      <td>KgQnRvsPSrJJTOCp-reYZA</td>\n",
       "      <td>XHK_1UM4CBZQ7RemDFr1mQ</td>\n",
       "      <td>3</td>\n",
       "      <td>Meh...don't come here if you are looking for a...</td>\n",
       "      <td>2016-08-11</td>\n",
       "      <td>57</td>\n",
       "      <td>98</td>\n",
       "      <td>1</td>\n",
       "      <td>1</td>\n",
       "      <td>1</td>\n",
       "      <td>0.447214</td>\n",
       "    </tr>\n",
       "    <tr>\n",
       "      <th>4</th>\n",
       "      <td>\"Cornerstone Market &amp; Deli\"</td>\n",
       "      <td>PAldTKppEliQBy3M5vxtlg</td>\n",
       "      <td>KgQnRvsPSrJJTOCp-reYZA</td>\n",
       "      <td>eZ423jsTh3g9QTt2w-UTyg</td>\n",
       "      <td>5</td>\n",
       "      <td>This place is a gem...I was so glad they reope...</td>\n",
       "      <td>2016-08-17</td>\n",
       "      <td>57</td>\n",
       "      <td>106</td>\n",
       "      <td>3</td>\n",
       "      <td>3</td>\n",
       "      <td>18</td>\n",
       "      <td>4.992302</td>\n",
       "    </tr>\n",
       "  </tbody>\n",
       "</table>\n",
       "</div>"
      ],
      "text/plain": [
       "                          name               review_id  \\\n",
       "0   \"Brick House Tavern + Tap\"  ZflgoahrEd1_H0tWSATjQw   \n",
       "1         \"Whole Foods Market\"  JjJyUhnLtX5aZWVJfSeLKA   \n",
       "2              \"Crave Cantina\"  hQu_gojfKPm8C0yovoszhQ   \n",
       "3                 \"Newdle Bar\"  0n1w0w1VsRF4eqeqZHnX4g   \n",
       "4  \"Cornerstone Market & Deli\"  PAldTKppEliQBy3M5vxtlg   \n",
       "\n",
       "                  user_id             business_id  stars  \\\n",
       "0  KgQnRvsPSrJJTOCp-reYZA  PfOCPjBrlQAnz__NXj9h_w      4   \n",
       "1  KgQnRvsPSrJJTOCp-reYZA  NFv21m2Czqz2XM5G4kpbKg      3   \n",
       "2  KgQnRvsPSrJJTOCp-reYZA  OFaMjL9nLF-A51KHNW8nfg      5   \n",
       "3  KgQnRvsPSrJJTOCp-reYZA  XHK_1UM4CBZQ7RemDFr1mQ      3   \n",
       "4  KgQnRvsPSrJJTOCp-reYZA  eZ423jsTh3g9QTt2w-UTyg      5   \n",
       "\n",
       "                                                text        date  \\\n",
       "0  Eating on couches or lounging in comfy recline...  2016-02-27   \n",
       "1  Convienent easy parking, though I had to avoid...  2016-12-27   \n",
       "2  I usually go somewhere local twice before writ...  2017-07-01   \n",
       "3  Meh...don't come here if you are looking for a...  2016-08-11   \n",
       "4  This place is a gem...I was so glad they reope...  2016-08-17   \n",
       "\n",
       "   review_count  word_count cat_stars  value_stars  SAsum_score  SAnorm_score  \n",
       "0            57         127         5            5           22      7.778175  \n",
       "1            57         128         1            1            5      1.581139  \n",
       "2            57         190         4            4           23      6.147009  \n",
       "3            57          98         1            1            1      0.447214  \n",
       "4            57         106         3            3           18      4.992302  "
      ]
     },
     "execution_count": 48,
     "metadata": {},
     "output_type": "execute_result"
    }
   ],
   "source": [
    "Yelp_new_rating.head()"
   ]
  },
  {
   "cell_type": "markdown",
   "metadata": {},
   "source": [
    "### Histograms showing SA frequency for all star ratings"
   ]
  },
  {
   "cell_type": "code",
   "execution_count": 244,
   "metadata": {},
   "outputs": [
    {
     "name": "stderr",
     "output_type": "stream",
     "text": [
      "/Users/Maciel/anaconda/lib/python3.6/site-packages/numpy/core/fromnumeric.py:52: FutureWarning: reshape is deprecated and will raise in a subsequent release. Please use .values.reshape(...) instead\n",
      "  return getattr(obj, method)(*args, **kwds)\n"
     ]
    },
    {
     "data": {
      "image/png": "[encoded data removed]",
      "text/plain": [
       "<matplotlib.figure.Figure at 0x111656240>"
      ]
     },
     "metadata": {},
     "output_type": "display_data"
    }
   ],
   "source": [
    "#Creat histograms showing SA frequency for each star rating\n",
    "one_star_SA=Yelp_new_rating.query('stars==1')['SAnorm_score']\n",
    "two_star_SA=Yelp_new_rating.query('stars==2')['SAnorm_score']\n",
    "three_star_SA=Yelp_new_rating.query('stars==3')['SAnorm_score']\n",
    "four_star_SA=Yelp_new_rating.query('stars==4')['SAnorm_score']\n",
    "five_star_SA=Yelp_new_rating.query('stars==5')['SAnorm_score']\n",
    "\n",
    "plt.style.use('seaborn-deep')\n",
    "plt.figure(figsize=(10,7))\n",
    "bins = np.linspace(-10, 15, 20)\n",
    "plt.hist([one_star_SA,two_star_SA, three_star_SA, four_star_SA, five_star_SA], \n",
    "         bins, label=['one_star_SA','two_star_SA', 'three_star_SA', 'four_star_SA', 'five_star_SA' ],\n",
    "         edgecolor='black', linewidth=1)\n",
    "\n",
    "plt.legend(loc='upper left')\n",
    "plt.xlabel('SA Score')\n",
    "plt.ylabel('Counts')\n",
    "plt.savefig('test.jpg', dpi=300)\n",
    "plt.show()"
   ]
  },
  {
   "cell_type": "code",
   "execution_count": 255,
   "metadata": {},
   "outputs": [
    {
     "data": {
      "image/png": "[encoded data removed]",
      "text/plain": [
       "<matplotlib.figure.Figure at 0x1112ffdd8>"
      ]
     },
     "metadata": {},
     "output_type": "display_data"
    }
   ],
   "source": [
    "bins = np.linspace(-8, 17, 40)\n",
    "\n",
    "plt.figure(figsize=(10,6))\n",
    "plt.hist(four_star_SA, bins, alpha=0.8,label = '4-star', edgecolor='black', linewidth=1)\n",
    "plt.hist(five_star_SA, bins, alpha=0.8,label = '5-star', edgecolor='black', linewidth=1)\n",
    "plt.hist(three_star_SA, bins, alpha=0.8,label = '3-star', edgecolor='black', linewidth=1)\n",
    "plt.hist(two_star_SA, bins, alpha=0.8, label='2-star', edgecolor='black', linewidth=1)\n",
    "plt.hist(one_star_SA, bins, alpha=0.8, label='1-star', edgecolor='black', linewidth=1)\n",
    "plt.legend(loc='upper right', title = 'User Star Rating')\n",
    "plt.xlabel('SA Score based on User Star Rating')\n",
    "plt.ylabel('Counts')\n",
    "plt.savefig('SA_Count_hist.jpg', dpi=300)\n",
    "plt.show()"
   ]
  },
  {
   "cell_type": "markdown",
   "metadata": {},
   "source": [
    "### Individual histograms of SA frequency for each user star rating"
   ]
  },
  {
   "cell_type": "code",
   "execution_count": 251,
   "metadata": {},
   "outputs": [
    {
     "data": {
      "image/png": "[encoded data removed]",
      "text/plain": [
       "<matplotlib.figure.Figure at 0x1a2e9d4780>"
      ]
     },
     "metadata": {},
     "output_type": "display_data"
    }
   ],
   "source": [
    "plt.style.use('seaborn-deep')\n",
    "bins = np.linspace(-20, 20, 5)\n",
    "plt.hist([one_star_SA], label=['one_star_SA'], edgecolor='black', linewidth=1)\n",
    "plt.legend(loc='upper left')\n",
    "plt.xlabel('SA Score')\n",
    "plt.ylabel('Counts')\n",
    "plt.show()"
   ]
  },
  {
   "cell_type": "code",
   "execution_count": 232,
   "metadata": {},
   "outputs": [
    {
     "data": {
      "image/png": "[encoded data removed]",
      "text/plain": [
       "<matplotlib.figure.Figure at 0x1a2cb04160>"
      ]
     },
     "metadata": {},
     "output_type": "display_data"
    }
   ],
   "source": [
    "plt.style.use('seaborn-deep')\n",
    "bins = np.linspace(-20, 20, 5)\n",
    "plt.hist([two_star_SA], label=['two_star_SA'], edgecolor='black', linewidth=1, color='seagreen')\n",
    "plt.legend(loc='upper left')\n",
    "plt.xlabel('SA Score')\n",
    "plt.ylabel('Counts')\n",
    "plt.show()"
   ]
  },
  {
   "cell_type": "code",
   "execution_count": 231,
   "metadata": {},
   "outputs": [
    {
     "data": {
      "image/png": "[encoded data removed]",
      "text/plain": [
       "<matplotlib.figure.Figure at 0x119144e48>"
      ]
     },
     "metadata": {},
     "output_type": "display_data"
    }
   ],
   "source": [
    "plt.style.use('seaborn-deep')\n",
    "bins = np.linspace(-20, 20, 5)\n",
    "plt.hist([three_star_SA], label=['three_star_SA'], edgecolor='black', linewidth=1, color='firebrick')\n",
    "plt.legend(loc='upper left')\n",
    "plt.xlabel('SA Score')\n",
    "plt.ylabel('Counts')\n",
    "plt.show()"
   ]
  },
  {
   "cell_type": "code",
   "execution_count": 113,
   "metadata": {},
   "outputs": [
    {
     "data": {
      "image/png": "[encoded data removed]",
      "text/plain": [
       "<matplotlib.figure.Figure at 0x1a2c974630>"
      ]
     },
     "metadata": {},
     "output_type": "display_data"
    }
   ],
   "source": [
    "plt.style.use('seaborn-deep')\n",
    "bins = np.linspace(-20, 20, 5)\n",
    "plt.hist([four_star_SA], label=['four_star_SA'], edgecolor='black', linewidth=1, color='slateblue')\n",
    "plt.legend(loc='upper left')\n",
    "plt.xlabel('SA Score')\n",
    "plt.ylabel('Counts')\n",
    "plt.show()"
   ]
  },
  {
   "cell_type": "code",
   "execution_count": 114,
   "metadata": {},
   "outputs": [
    {
     "data": {
      "image/png": "[encoded data removed]",
      "text/plain": [
       "<matplotlib.figure.Figure at 0x1a2cc02278>"
      ]
     },
     "metadata": {},
     "output_type": "display_data"
    }
   ],
   "source": [
    "plt.style.use('seaborn-deep')\n",
    "bins = np.linspace(-20, 20, 5)\n",
    "plt.hist([five_star_SA], label=['five_star_SA'], edgecolor='black', linewidth=1, color='goldenrod')\n",
    "plt.legend(loc='upper left')\n",
    "plt.xlabel('SA Score')\n",
    "plt.ylabel('Counts')\n",
    "plt.show()"
   ]
  },
  {
   "cell_type": "code",
   "execution_count": 257,
   "metadata": {},
   "outputs": [
    {
     "data": {
      "text/html": [
       "<div>\n",
       "<style scoped>\n",
       "    .dataframe tbody tr th:only-of-type {\n",
       "        vertical-align: middle;\n",
       "    }\n",
       "\n",
       "    .dataframe tbody tr th {\n",
       "        vertical-align: top;\n",
       "    }\n",
       "\n",
       "    .dataframe thead th {\n",
       "        text-align: right;\n",
       "    }\n",
       "</style>\n",
       "<table border=\"1\" class=\"dataframe\">\n",
       "  <thead>\n",
       "    <tr style=\"text-align: right;\">\n",
       "      <th></th>\n",
       "      <th>review_count</th>\n",
       "      <th>word_count</th>\n",
       "      <th>value_stars</th>\n",
       "      <th>SAsum_score</th>\n",
       "      <th>SAnorm_score</th>\n",
       "    </tr>\n",
       "    <tr>\n",
       "      <th>stars</th>\n",
       "      <th></th>\n",
       "      <th></th>\n",
       "      <th></th>\n",
       "      <th></th>\n",
       "      <th></th>\n",
       "    </tr>\n",
       "  </thead>\n",
       "  <tbody>\n",
       "    <tr>\n",
       "      <th>1</th>\n",
       "      <td>71.029528</td>\n",
       "      <td>161.425372</td>\n",
       "      <td>1.350716</td>\n",
       "      <td>0.570672</td>\n",
       "      <td>0.057611</td>\n",
       "    </tr>\n",
       "    <tr>\n",
       "      <th>2</th>\n",
       "      <td>71.882640</td>\n",
       "      <td>161.834927</td>\n",
       "      <td>1.951383</td>\n",
       "      <td>7.122852</td>\n",
       "      <td>2.124519</td>\n",
       "    </tr>\n",
       "    <tr>\n",
       "      <th>3</th>\n",
       "      <td>72.546286</td>\n",
       "      <td>145.212086</td>\n",
       "      <td>2.665195</td>\n",
       "      <td>11.806646</td>\n",
       "      <td>3.701762</td>\n",
       "    </tr>\n",
       "    <tr>\n",
       "      <th>4</th>\n",
       "      <td>72.149958</td>\n",
       "      <td>135.134715</td>\n",
       "      <td>3.286424</td>\n",
       "      <td>15.560511</td>\n",
       "      <td>4.898793</td>\n",
       "    </tr>\n",
       "    <tr>\n",
       "      <th>5</th>\n",
       "      <td>71.153046</td>\n",
       "      <td>126.883876</td>\n",
       "      <td>3.543157</td>\n",
       "      <td>17.314578</td>\n",
       "      <td>5.420732</td>\n",
       "    </tr>\n",
       "  </tbody>\n",
       "</table>\n",
       "</div>"
      ],
      "text/plain": [
       "       review_count  word_count  value_stars  SAsum_score  SAnorm_score\n",
       "stars                                                                  \n",
       "1         71.029528  161.425372     1.350716     0.570672      0.057611\n",
       "2         71.882640  161.834927     1.951383     7.122852      2.124519\n",
       "3         72.546286  145.212086     2.665195    11.806646      3.701762\n",
       "4         72.149958  135.134715     3.286424    15.560511      4.898793\n",
       "5         71.153046  126.883876     3.543157    17.314578      5.420732"
      ]
     },
     "execution_count": 257,
     "metadata": {},
     "output_type": "execute_result"
    }
   ],
   "source": [
    "#Get mean and std deve of SA for each star rating\n",
    "Group_by_stars= Yelp_new_rating.groupby(by='stars')\n",
    "Group_by_stars.mean()"
   ]
  },
  {
   "cell_type": "code",
   "execution_count": 256,
   "metadata": {},
   "outputs": [
    {
     "data": {
      "text/html": [
       "<div>\n",
       "<style scoped>\n",
       "    .dataframe tbody tr th:only-of-type {\n",
       "        vertical-align: middle;\n",
       "    }\n",
       "\n",
       "    .dataframe tbody tr th {\n",
       "        vertical-align: top;\n",
       "    }\n",
       "\n",
       "    .dataframe thead th {\n",
       "        text-align: right;\n",
       "    }\n",
       "</style>\n",
       "<table border=\"1\" class=\"dataframe\">\n",
       "  <thead>\n",
       "    <tr style=\"text-align: right;\">\n",
       "      <th></th>\n",
       "      <th>review_count</th>\n",
       "      <th>word_count</th>\n",
       "      <th>value_stars</th>\n",
       "      <th>SAsum_score</th>\n",
       "      <th>SAnorm_score</th>\n",
       "    </tr>\n",
       "    <tr>\n",
       "      <th>stars</th>\n",
       "      <th></th>\n",
       "      <th></th>\n",
       "      <th></th>\n",
       "      <th></th>\n",
       "      <th></th>\n",
       "    </tr>\n",
       "  </thead>\n",
       "  <tbody>\n",
       "    <tr>\n",
       "      <th>1</th>\n",
       "      <td>14.222300</td>\n",
       "      <td>141.683919</td>\n",
       "      <td>0.741389</td>\n",
       "      <td>9.265605</td>\n",
       "      <td>2.650861</td>\n",
       "    </tr>\n",
       "    <tr>\n",
       "      <th>2</th>\n",
       "      <td>14.264244</td>\n",
       "      <td>127.550973</td>\n",
       "      <td>1.139160</td>\n",
       "      <td>10.168549</td>\n",
       "      <td>2.651821</td>\n",
       "    </tr>\n",
       "    <tr>\n",
       "      <th>3</th>\n",
       "      <td>14.336018</td>\n",
       "      <td>111.932782</td>\n",
       "      <td>1.329250</td>\n",
       "      <td>10.974973</td>\n",
       "      <td>2.574833</td>\n",
       "    </tr>\n",
       "    <tr>\n",
       "      <th>4</th>\n",
       "      <td>14.233909</td>\n",
       "      <td>105.248374</td>\n",
       "      <td>1.317862</td>\n",
       "      <td>11.946679</td>\n",
       "      <td>2.478264</td>\n",
       "    </tr>\n",
       "    <tr>\n",
       "      <th>5</th>\n",
       "      <td>14.062487</td>\n",
       "      <td>106.829203</td>\n",
       "      <td>1.291667</td>\n",
       "      <td>13.223484</td>\n",
       "      <td>2.550201</td>\n",
       "    </tr>\n",
       "  </tbody>\n",
       "</table>\n",
       "</div>"
      ],
      "text/plain": [
       "       review_count  word_count  value_stars  SAsum_score  SAnorm_score\n",
       "stars                                                                  \n",
       "1         14.222300  141.683919     0.741389     9.265605      2.650861\n",
       "2         14.264244  127.550973     1.139160    10.168549      2.651821\n",
       "3         14.336018  111.932782     1.329250    10.974973      2.574833\n",
       "4         14.233909  105.248374     1.317862    11.946679      2.478264\n",
       "5         14.062487  106.829203     1.291667    13.223484      2.550201"
      ]
     },
     "execution_count": 256,
     "metadata": {},
     "output_type": "execute_result"
    }
   ],
   "source": [
    "Group_by_stars.std()"
   ]
  },
  {
   "cell_type": "code",
   "execution_count": 258,
   "metadata": {},
   "outputs": [
    {
     "data": {
      "text/html": [
       "<div>\n",
       "<style scoped>\n",
       "    .dataframe tbody tr th:only-of-type {\n",
       "        vertical-align: middle;\n",
       "    }\n",
       "\n",
       "    .dataframe tbody tr th {\n",
       "        vertical-align: top;\n",
       "    }\n",
       "\n",
       "    .dataframe thead th {\n",
       "        text-align: right;\n",
       "    }\n",
       "</style>\n",
       "<table border=\"1\" class=\"dataframe\">\n",
       "  <thead>\n",
       "    <tr style=\"text-align: right;\">\n",
       "      <th></th>\n",
       "      <th>name</th>\n",
       "      <th>review_id</th>\n",
       "      <th>user_id</th>\n",
       "      <th>business_id</th>\n",
       "      <th>text</th>\n",
       "      <th>date</th>\n",
       "      <th>review_count</th>\n",
       "      <th>word_count</th>\n",
       "      <th>cat_stars</th>\n",
       "      <th>value_stars</th>\n",
       "      <th>SAsum_score</th>\n",
       "      <th>SAnorm_score</th>\n",
       "    </tr>\n",
       "    <tr>\n",
       "      <th>stars</th>\n",
       "      <th></th>\n",
       "      <th></th>\n",
       "      <th></th>\n",
       "      <th></th>\n",
       "      <th></th>\n",
       "      <th></th>\n",
       "      <th></th>\n",
       "      <th></th>\n",
       "      <th></th>\n",
       "      <th></th>\n",
       "      <th></th>\n",
       "      <th></th>\n",
       "    </tr>\n",
       "  </thead>\n",
       "  <tbody>\n",
       "    <tr>\n",
       "      <th>1</th>\n",
       "      <td>17949</td>\n",
       "      <td>17949</td>\n",
       "      <td>17949</td>\n",
       "      <td>17949</td>\n",
       "      <td>17949</td>\n",
       "      <td>17949</td>\n",
       "      <td>17949</td>\n",
       "      <td>17949</td>\n",
       "      <td>17949</td>\n",
       "      <td>17949</td>\n",
       "      <td>17949</td>\n",
       "      <td>17949</td>\n",
       "    </tr>\n",
       "    <tr>\n",
       "      <th>2</th>\n",
       "      <td>30956</td>\n",
       "      <td>30956</td>\n",
       "      <td>30956</td>\n",
       "      <td>30956</td>\n",
       "      <td>30956</td>\n",
       "      <td>30956</td>\n",
       "      <td>30956</td>\n",
       "      <td>30956</td>\n",
       "      <td>30956</td>\n",
       "      <td>30956</td>\n",
       "      <td>30956</td>\n",
       "      <td>30956</td>\n",
       "    </tr>\n",
       "    <tr>\n",
       "      <th>3</th>\n",
       "      <td>66143</td>\n",
       "      <td>66143</td>\n",
       "      <td>66143</td>\n",
       "      <td>66143</td>\n",
       "      <td>66143</td>\n",
       "      <td>66143</td>\n",
       "      <td>66143</td>\n",
       "      <td>66143</td>\n",
       "      <td>66143</td>\n",
       "      <td>66143</td>\n",
       "      <td>66143</td>\n",
       "      <td>66143</td>\n",
       "    </tr>\n",
       "    <tr>\n",
       "      <th>4</th>\n",
       "      <td>119400</td>\n",
       "      <td>119400</td>\n",
       "      <td>119400</td>\n",
       "      <td>119400</td>\n",
       "      <td>119400</td>\n",
       "      <td>119400</td>\n",
       "      <td>119400</td>\n",
       "      <td>119400</td>\n",
       "      <td>119400</td>\n",
       "      <td>119400</td>\n",
       "      <td>119400</td>\n",
       "      <td>119400</td>\n",
       "    </tr>\n",
       "    <tr>\n",
       "      <th>5</th>\n",
       "      <td>88862</td>\n",
       "      <td>88862</td>\n",
       "      <td>88862</td>\n",
       "      <td>88862</td>\n",
       "      <td>88862</td>\n",
       "      <td>88862</td>\n",
       "      <td>88862</td>\n",
       "      <td>88862</td>\n",
       "      <td>88862</td>\n",
       "      <td>88862</td>\n",
       "      <td>88862</td>\n",
       "      <td>88862</td>\n",
       "    </tr>\n",
       "  </tbody>\n",
       "</table>\n",
       "</div>"
      ],
      "text/plain": [
       "         name  review_id  user_id  business_id    text    date  review_count  \\\n",
       "stars                                                                          \n",
       "1       17949      17949    17949        17949   17949   17949         17949   \n",
       "2       30956      30956    30956        30956   30956   30956         30956   \n",
       "3       66143      66143    66143        66143   66143   66143         66143   \n",
       "4      119400     119400   119400       119400  119400  119400        119400   \n",
       "5       88862      88862    88862        88862   88862   88862         88862   \n",
       "\n",
       "       word_count  cat_stars  value_stars  SAsum_score  SAnorm_score  \n",
       "stars                                                                 \n",
       "1           17949      17949        17949        17949         17949  \n",
       "2           30956      30956        30956        30956         30956  \n",
       "3           66143      66143        66143        66143         66143  \n",
       "4          119400     119400       119400       119400        119400  \n",
       "5           88862      88862        88862        88862         88862  "
      ]
     },
     "execution_count": 258,
     "metadata": {},
     "output_type": "execute_result"
    }
   ],
   "source": [
    "Group_by_stars.count()"
   ]
  },
  {
   "cell_type": "code",
   "execution_count": null,
   "metadata": {},
   "outputs": [],
   "source": []
  }
 ],
 "metadata": {
  "kernelspec": {
   "display_name": "Python 3",
   "language": "python",
   "name": "python3"
  },
  "language_info": {
   "codemirror_mode": {
    "name": "ipython",
    "version": 3
   },
   "file_extension": ".py",
   "mimetype": "text/x-python",
   "name": "python",
   "nbconvert_exporter": "python",
   "pygments_lexer": "ipython3",
   "version": "3.6.4"
  }
 },
 "nbformat": 4,
 "nbformat_minor": 2
}
