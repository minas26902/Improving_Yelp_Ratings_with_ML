{
 "cells": [
  {
   "cell_type": "code",
   "execution_count": 1,
   "metadata": {
    "collapsed": true
   },
   "outputs": [],
   "source": [
    "# Dependencies\n",
    "import pandas as pd\n",
    "import numpy as np\n",
    "import os\n",
    "\n",
    "import matplotlib.pyplot as plt\n",
    "\n",
    "from pyspark.sql import SparkSession\n",
    "from pyspark.ml.feature import Tokenizer, NGram\n",
    "from pyspark.sql.functions import length\n",
    "from pyspark.ml.feature import Tokenizer, StopWordsRemover, HashingTF, IDF, StringIndexer\n",
    "from pyspark.ml.feature import VectorAssembler\n",
    "from pyspark.ml.linalg import Vector\n",
    "from pyspark.ml import Pipeline\n",
    "from pyspark.ml.classification import NaiveBayes\n",
    "from pyspark.ml.evaluation import MulticlassClassificationEvaluator\n"
   ]
  },
  {
   "cell_type": "code",
   "execution_count": 2,
   "metadata": {},
   "outputs": [
    {
     "data": {
      "text/html": [
       "<div>\n",
       "<style>\n",
       "    .dataframe thead tr:only-child th {\n",
       "        text-align: right;\n",
       "    }\n",
       "\n",
       "    .dataframe thead th {\n",
       "        text-align: left;\n",
       "    }\n",
       "\n",
       "    .dataframe tbody tr th {\n",
       "        vertical-align: top;\n",
       "    }\n",
       "</style>\n",
       "<table border=\"1\" class=\"dataframe\">\n",
       "  <thead>\n",
       "    <tr style=\"text-align: right;\">\n",
       "      <th></th>\n",
       "      <th>name</th>\n",
       "      <th>review_id</th>\n",
       "      <th>user_id</th>\n",
       "      <th>business_id</th>\n",
       "      <th>stars</th>\n",
       "      <th>text</th>\n",
       "      <th>date</th>\n",
       "      <th>review_count</th>\n",
       "    </tr>\n",
       "  </thead>\n",
       "  <tbody>\n",
       "    <tr>\n",
       "      <th>0</th>\n",
       "      <td>\"Brick House Tavern + Tap\"</td>\n",
       "      <td>ZflgoahrEd1_H0tWSATjQw</td>\n",
       "      <td>KgQnRvsPSrJJTOCp-reYZA</td>\n",
       "      <td>PfOCPjBrlQAnz__NXj9h_w</td>\n",
       "      <td>4</td>\n",
       "      <td>Eating on couches or lounging in comfy recline...</td>\n",
       "      <td>2016-02-27</td>\n",
       "      <td>57</td>\n",
       "    </tr>\n",
       "    <tr>\n",
       "      <th>1</th>\n",
       "      <td>\"Whole Foods Market\"</td>\n",
       "      <td>JjJyUhnLtX5aZWVJfSeLKA</td>\n",
       "      <td>KgQnRvsPSrJJTOCp-reYZA</td>\n",
       "      <td>NFv21m2Czqz2XM5G4kpbKg</td>\n",
       "      <td>3</td>\n",
       "      <td>Convienent easy parking, though I had to avoid...</td>\n",
       "      <td>2016-12-27</td>\n",
       "      <td>57</td>\n",
       "    </tr>\n",
       "    <tr>\n",
       "      <th>2</th>\n",
       "      <td>\"Crave Cantina\"</td>\n",
       "      <td>hQu_gojfKPm8C0yovoszhQ</td>\n",
       "      <td>KgQnRvsPSrJJTOCp-reYZA</td>\n",
       "      <td>OFaMjL9nLF-A51KHNW8nfg</td>\n",
       "      <td>5</td>\n",
       "      <td>I usually go somewhere local twice before writ...</td>\n",
       "      <td>2017-07-01</td>\n",
       "      <td>57</td>\n",
       "    </tr>\n",
       "    <tr>\n",
       "      <th>3</th>\n",
       "      <td>\"Newdle Bar\"</td>\n",
       "      <td>0n1w0w1VsRF4eqeqZHnX4g</td>\n",
       "      <td>KgQnRvsPSrJJTOCp-reYZA</td>\n",
       "      <td>XHK_1UM4CBZQ7RemDFr1mQ</td>\n",
       "      <td>3</td>\n",
       "      <td>Meh...don't come here if you are looking for a...</td>\n",
       "      <td>2016-08-11</td>\n",
       "      <td>57</td>\n",
       "    </tr>\n",
       "    <tr>\n",
       "      <th>4</th>\n",
       "      <td>\"Cornerstone Market &amp; Deli\"</td>\n",
       "      <td>PAldTKppEliQBy3M5vxtlg</td>\n",
       "      <td>KgQnRvsPSrJJTOCp-reYZA</td>\n",
       "      <td>eZ423jsTh3g9QTt2w-UTyg</td>\n",
       "      <td>5</td>\n",
       "      <td>This place is a gem...I was so glad they reope...</td>\n",
       "      <td>2016-08-17</td>\n",
       "      <td>57</td>\n",
       "    </tr>\n",
       "  </tbody>\n",
       "</table>\n",
       "</div>"
      ],
      "text/plain": [
       "                          name               review_id  \\\n",
       "0   \"Brick House Tavern + Tap\"  ZflgoahrEd1_H0tWSATjQw   \n",
       "1         \"Whole Foods Market\"  JjJyUhnLtX5aZWVJfSeLKA   \n",
       "2              \"Crave Cantina\"  hQu_gojfKPm8C0yovoszhQ   \n",
       "3                 \"Newdle Bar\"  0n1w0w1VsRF4eqeqZHnX4g   \n",
       "4  \"Cornerstone Market & Deli\"  PAldTKppEliQBy3M5vxtlg   \n",
       "\n",
       "                  user_id             business_id  stars  \\\n",
       "0  KgQnRvsPSrJJTOCp-reYZA  PfOCPjBrlQAnz__NXj9h_w      4   \n",
       "1  KgQnRvsPSrJJTOCp-reYZA  NFv21m2Czqz2XM5G4kpbKg      3   \n",
       "2  KgQnRvsPSrJJTOCp-reYZA  OFaMjL9nLF-A51KHNW8nfg      5   \n",
       "3  KgQnRvsPSrJJTOCp-reYZA  XHK_1UM4CBZQ7RemDFr1mQ      3   \n",
       "4  KgQnRvsPSrJJTOCp-reYZA  eZ423jsTh3g9QTt2w-UTyg      5   \n",
       "\n",
       "                                                text        date  review_count  \n",
       "0  Eating on couches or lounging in comfy recline...  2016-02-27            57  \n",
       "1  Convienent easy parking, though I had to avoid...  2016-12-27            57  \n",
       "2  I usually go somewhere local twice before writ...  2017-07-01            57  \n",
       "3  Meh...don't come here if you are looking for a...  2016-08-11            57  \n",
       "4  This place is a gem...I was so glad they reope...  2016-08-17            57  "
      ]
     },
     "execution_count": 2,
     "metadata": {},
     "output_type": "execute_result"
    }
   ],
   "source": [
    "file_name = \"reviews_users_50-100.csv\"\n",
    "yelp_review_df = pd.read_csv(file_name, encoding = \"ISO-8859-1\")\n",
    "yelp_review_df.head()"
   ]
  },
  {
   "cell_type": "code",
   "execution_count": 3,
   "metadata": {
    "collapsed": true
   },
   "outputs": [],
   "source": [
    "short_yelp_review_df = yelp_review_df.iloc[:70000]\n"
   ]
  },
  {
   "cell_type": "code",
   "execution_count": 4,
   "metadata": {},
   "outputs": [
    {
     "data": {
      "text/html": [
       "<div>\n",
       "<style>\n",
       "    .dataframe thead tr:only-child th {\n",
       "        text-align: right;\n",
       "    }\n",
       "\n",
       "    .dataframe thead th {\n",
       "        text-align: left;\n",
       "    }\n",
       "\n",
       "    .dataframe tbody tr th {\n",
       "        vertical-align: top;\n",
       "    }\n",
       "</style>\n",
       "<table border=\"1\" class=\"dataframe\">\n",
       "  <thead>\n",
       "    <tr style=\"text-align: right;\">\n",
       "      <th></th>\n",
       "      <th>review_id</th>\n",
       "      <th>text</th>\n",
       "      <th>stars</th>\n",
       "    </tr>\n",
       "  </thead>\n",
       "  <tbody>\n",
       "    <tr>\n",
       "      <th>0</th>\n",
       "      <td>ZflgoahrEd1_H0tWSATjQw</td>\n",
       "      <td>Eating on couches or lounging in comfy recline...</td>\n",
       "      <td>4</td>\n",
       "    </tr>\n",
       "    <tr>\n",
       "      <th>1</th>\n",
       "      <td>JjJyUhnLtX5aZWVJfSeLKA</td>\n",
       "      <td>Convienent easy parking, though I had to avoid...</td>\n",
       "      <td>3</td>\n",
       "    </tr>\n",
       "    <tr>\n",
       "      <th>2</th>\n",
       "      <td>hQu_gojfKPm8C0yovoszhQ</td>\n",
       "      <td>I usually go somewhere local twice before writ...</td>\n",
       "      <td>5</td>\n",
       "    </tr>\n",
       "    <tr>\n",
       "      <th>3</th>\n",
       "      <td>0n1w0w1VsRF4eqeqZHnX4g</td>\n",
       "      <td>Meh...don't come here if you are looking for a...</td>\n",
       "      <td>3</td>\n",
       "    </tr>\n",
       "    <tr>\n",
       "      <th>4</th>\n",
       "      <td>PAldTKppEliQBy3M5vxtlg</td>\n",
       "      <td>This place is a gem...I was so glad they reope...</td>\n",
       "      <td>5</td>\n",
       "    </tr>\n",
       "  </tbody>\n",
       "</table>\n",
       "</div>"
      ],
      "text/plain": [
       "                review_id                                               text  \\\n",
       "0  ZflgoahrEd1_H0tWSATjQw  Eating on couches or lounging in comfy recline...   \n",
       "1  JjJyUhnLtX5aZWVJfSeLKA  Convienent easy parking, though I had to avoid...   \n",
       "2  hQu_gojfKPm8C0yovoszhQ  I usually go somewhere local twice before writ...   \n",
       "3  0n1w0w1VsRF4eqeqZHnX4g  Meh...don't come here if you are looking for a...   \n",
       "4  PAldTKppEliQBy3M5vxtlg  This place is a gem...I was so glad they reope...   \n",
       "\n",
       "   stars  \n",
       "0      4  \n",
       "1      3  \n",
       "2      5  \n",
       "3      3  \n",
       "4      5  "
      ]
     },
     "execution_count": 4,
     "metadata": {},
     "output_type": "execute_result"
    }
   ],
   "source": [
    "test_df = short_yelp_review_df[[\"review_id\", \"text\",\"stars\"]].reset_index()\n",
    "test_df = test_df[[\"review_id\",'text', 'stars']]\n",
    "test_df.head()"
   ]
  },
  {
   "cell_type": "code",
   "execution_count": 5,
   "metadata": {
    "collapsed": true
   },
   "outputs": [],
   "source": [
    "spark = SparkSession.builder.appName('Yelp').getOrCreate()"
   ]
  },
  {
   "cell_type": "code",
   "execution_count": 6,
   "metadata": {
    "collapsed": true
   },
   "outputs": [],
   "source": [
    "start_data = spark.createDataFrame(test_df)"
   ]
  },
  {
   "cell_type": "code",
   "execution_count": 7,
   "metadata": {},
   "outputs": [
    {
     "name": "stdout",
     "output_type": "stream",
     "text": [
      "+--------------------+--------------------+-----+------+\n",
      "|           review_id|                text|stars|length|\n",
      "+--------------------+--------------------+-----+------+\n",
      "|ZflgoahrEd1_H0tWS...|Eating on couches...|    4|   744|\n",
      "|JjJyUhnLtX5aZWVJf...|Convienent easy p...|    3|   668|\n",
      "|hQu_gojfKPm8C0yov...|I usually go some...|    5|  1019|\n",
      "|0n1w0w1VsRF4eqeqZ...|Meh...don't come ...|    3|   559|\n",
      "|PAldTKppEliQBy3M5...|This place is a g...|    5|   569|\n",
      "|r8ghBuwFFMybBGFcD...|Step back in time...|    4|   345|\n",
      "|PTldCrPlj6FbJnekN...|I have been twice...|    4|   695|\n",
      "|I1NMsaLQXLQRFEJwk...|This restaurant g...|    5|   639|\n",
      "|moFCqVwlzeUE4em5P...|We will be back h...|    5|   537|\n",
      "|oEa4Csf_LjOQHiwRa...|Came in due to re...|    3|   525|\n",
      "|otCspYf4Vzo97zAuo...|Always great, fas...|    4|   222|\n",
      "|n3DUEVDu2zbm4ewGS...|We have been here...|    4|   271|\n",
      "|fPbWkOn2hhkNu8JvZ...|The smell of cara...|    5|   597|\n",
      "|bVpzB-6wfMz_easvZ...|Preferred lunch v...|    3|   845|\n",
      "|aT_6C6KU64l87unF7...|Great burgers...h...|    5|   369|\n",
      "|3JTTBk-pg3mcWIyjy...|Wish I could give...|    4|  1164|\n",
      "|OiGZiZx2QE7Dgk3qS...|What is there to ...|    3|   407|\n",
      "|1dJDr6nyEdyDCjV0d...|The parking here ...|    3|   593|\n",
      "|0K57zqClL8x2LWn6-...|Pay attention to ...|    4|   276|\n",
      "|vLAg1X9pdNjF4ZOKf...|What a fun store!...|    5|   272|\n",
      "+--------------------+--------------------+-----+------+\n",
      "only showing top 20 rows\n",
      "\n"
     ]
    }
   ],
   "source": [
    "\n",
    "data = start_data.withColumn('length', length(start_data['text']))\n",
    "\n",
    "data.show()"
   ]
  },
  {
   "cell_type": "code",
   "execution_count": 8,
   "metadata": {
    "collapsed": true
   },
   "outputs": [],
   "source": [
    "# Create all the features to the data set\n",
    "\n",
    "stars_to_num = StringIndexer(inputCol='stars',outputCol='label')\n",
    "tokenizer = Tokenizer(inputCol=\"text\", outputCol=\"token_text\")\n",
    "ngram = NGram(n=2, inputCol=\"token_text\", outputCol=\"ngrams\")\n",
    "stopremove = StopWordsRemover(inputCol=\"ngrams\",outputCol='stop_tokens')\n",
    "hashingTF = HashingTF(inputCol='stop_tokens', outputCol='hash_token')\n",
    "idf = IDF(inputCol='hash_token', outputCol='idf_token')"
   ]
  },
  {
   "cell_type": "code",
   "execution_count": 9,
   "metadata": {
    "collapsed": true
   },
   "outputs": [],
   "source": [
    "# Create feature vectors\n",
    "clean_up = VectorAssembler(inputCols=['idf_token', 'length'], outputCol='features')"
   ]
  },
  {
   "cell_type": "code",
   "execution_count": 10,
   "metadata": {
    "collapsed": true
   },
   "outputs": [],
   "source": [
    "data_prep_pipeline = Pipeline(stages=[stars_to_num, tokenizer, ngram, stopremove, hashingTF, idf, clean_up]) "
   ]
  },
  {
   "cell_type": "code",
   "execution_count": 11,
   "metadata": {
    "collapsed": true
   },
   "outputs": [],
   "source": [
    "# Fit and transform the pipeline\n",
    "cleaner = data_prep_pipeline.fit(data)\n",
    "cleaned = cleaner.transform(data)"
   ]
  },
  {
   "cell_type": "code",
   "execution_count": 12,
   "metadata": {},
   "outputs": [
    {
     "name": "stdout",
     "output_type": "stream",
     "text": [
      "+-----+--------------------+\n",
      "|label|            features|\n",
      "+-----+--------------------+\n",
      "|  0.0|(262145,[303,3143...|\n",
      "|  2.0|(262145,[733,811,...|\n",
      "|  1.0|(262145,[258,429,...|\n",
      "|  2.0|(262145,[43,1479,...|\n",
      "|  1.0|(262145,[1634,399...|\n",
      "|  0.0|(262145,[7787,831...|\n",
      "|  0.0|(262145,[43,815,1...|\n",
      "|  1.0|(262145,[1447,369...|\n",
      "|  1.0|(262145,[2826,552...|\n",
      "|  2.0|(262145,[43,964,2...|\n",
      "|  0.0|(262145,[22553,33...|\n",
      "|  0.0|(262145,[5355,600...|\n",
      "|  1.0|(262145,[1447,437...|\n",
      "|  2.0|(262145,[8755,108...|\n",
      "|  1.0|(262145,[2925,898...|\n",
      "|  0.0|(262145,[83,1447,...|\n",
      "|  2.0|(262145,[1413,281...|\n",
      "|  2.0|(262145,[207,732,...|\n",
      "|  0.0|(262145,[5155,600...|\n",
      "|  1.0|(262145,[1481,314...|\n",
      "+-----+--------------------+\n",
      "only showing top 20 rows\n",
      "\n"
     ]
    }
   ],
   "source": [
    "cleaned.select(['label', 'features']).show()"
   ]
  },
  {
   "cell_type": "code",
   "execution_count": 13,
   "metadata": {
    "collapsed": true
   },
   "outputs": [],
   "source": [
    "# Break data down into a training set and a testing set\n",
    "(training, testing) = cleaned.randomSplit([0.7, 0.3])"
   ]
  },
  {
   "cell_type": "code",
   "execution_count": 14,
   "metadata": {
    "collapsed": true
   },
   "outputs": [],
   "source": [
    "# Create a Naive Bayes model and fit training data\n",
    "nb = NaiveBayes(smoothing=1.0, modelType='multinomial')   \n",
    "star_predictor = nb.fit(training)"
   ]
  },
  {
   "cell_type": "code",
   "execution_count": 15,
   "metadata": {},
   "outputs": [
    {
     "name": "stdout",
     "output_type": "stream",
     "text": [
      "+--------------------+--------------------+-----+------+-----+--------------------+--------------------+--------------------+--------------------+--------------------+--------------------+--------------------+--------------------+----------+\n",
      "|           review_id|                text|stars|length|label|          token_text|              ngrams|         stop_tokens|          hash_token|           idf_token|            features|       rawPrediction|         probability|prediction|\n",
      "+--------------------+--------------------+-----+------+-----+--------------------+--------------------+--------------------+--------------------+--------------------+--------------------+--------------------+--------------------+----------+\n",
      "|--VE-t7k_ykSu2mlK...|I work in Park Ce...|    4|   615|  0.0|[i, work, in, par...|[i work, work in,...|[i work, work in,...|(262144,[4865,600...|(262144,[4865,600...|(262145,[4865,600...|[-8922.0932401670...|[0.95620643550424...|       0.0|\n",
      "|--yzATieNipvZ7tVu...|This place caught...|    5|   412|  1.0|[this, place, cau...|[this place, plac...|[this place, plac...|(262144,[665,1447...|(262144,[665,1447...|(262145,[665,1447...|[-5982.1331885193...|[0.99935098638845...|       0.0|\n",
      "|-0HGoSW-aswXr2dlc...|amazing place to ...|    4|   443|  0.0|[amazing, place, ...|[amazing place, p...|[amazing place, p...|(262144,[3059,586...|(262144,[3059,586...|(262145,[3059,586...|[-6649.5822125214...|[8.54324188089170...|       2.0|\n",
      "|-0sjL8VTtLDLBBywR...|You can't ever go...|    4|   513|  0.0|[you, can't, ever...|[you can't, can't...|[you can't, can't...|(262144,[2152,426...|(262144,[2152,426...|(262145,[2152,426...|[-7508.7630573970...|[3.72213676095227...|       1.0|\n",
      "|-2ayGrxgMlRAQpix5...|I came here the o...|    4|   359|  0.0|[i, came, here, t...|[i came, came her...|[i came, came her...|(262144,[7412,756...|(262144,[7412,756...|(262145,[7412,756...|[-4983.3070159709...|[6.88796685855943...|       1.0|\n",
      "+--------------------+--------------------+-----+------+-----+--------------------+--------------------+--------------------+--------------------+--------------------+--------------------+--------------------+--------------------+----------+\n",
      "only showing top 5 rows\n",
      "\n"
     ]
    }
   ],
   "source": [
    "# Tranform the model with the testing data\n",
    "test_results = star_predictor.transform(testing)\n",
    "test_results.show(5)"
   ]
  },
  {
   "cell_type": "code",
   "execution_count": 16,
   "metadata": {
    "scrolled": true
   },
   "outputs": [
    {
     "name": "stdout",
     "output_type": "stream",
     "text": [
      "Accuracy of model at predicting reviews was: 0.4389972107129357\n"
     ]
    }
   ],
   "source": [
    "# Use the Class Evaluator for a cleaner description\n",
    "\n",
    "\n",
    "acc_eval = MulticlassClassificationEvaluator()\n",
    "acc = acc_eval.evaluate(test_results)\n",
    "print(f\"Accuracy of model at predicting reviews was: {acc}\")"
   ]
  },
  {
   "cell_type": "code",
   "execution_count": 17,
   "metadata": {},
   "outputs": [
    {
     "data": {
      "text/html": [
       "<div>\n",
       "<style>\n",
       "    .dataframe thead tr:only-child th {\n",
       "        text-align: right;\n",
       "    }\n",
       "\n",
       "    .dataframe thead th {\n",
       "        text-align: left;\n",
       "    }\n",
       "\n",
       "    .dataframe tbody tr th {\n",
       "        vertical-align: top;\n",
       "    }\n",
       "</style>\n",
       "<table border=\"1\" class=\"dataframe\">\n",
       "  <thead>\n",
       "    <tr style=\"text-align: right;\">\n",
       "      <th></th>\n",
       "      <th>review_id</th>\n",
       "      <th>stars</th>\n",
       "      <th>label</th>\n",
       "      <th>prediction</th>\n",
       "    </tr>\n",
       "  </thead>\n",
       "  <tbody>\n",
       "    <tr>\n",
       "      <th>0</th>\n",
       "      <td>--VE-t7k_ykSu2mlKpKwqA</td>\n",
       "      <td>4</td>\n",
       "      <td>0.0</td>\n",
       "      <td>0.0</td>\n",
       "    </tr>\n",
       "    <tr>\n",
       "      <th>1</th>\n",
       "      <td>--yzATieNipvZ7tVuTvNKw</td>\n",
       "      <td>5</td>\n",
       "      <td>1.0</td>\n",
       "      <td>0.0</td>\n",
       "    </tr>\n",
       "    <tr>\n",
       "      <th>2</th>\n",
       "      <td>-0HGoSW-aswXr2dlcqb9Dw</td>\n",
       "      <td>4</td>\n",
       "      <td>0.0</td>\n",
       "      <td>2.0</td>\n",
       "    </tr>\n",
       "    <tr>\n",
       "      <th>3</th>\n",
       "      <td>-0sjL8VTtLDLBBywRG6NJg</td>\n",
       "      <td>4</td>\n",
       "      <td>0.0</td>\n",
       "      <td>1.0</td>\n",
       "    </tr>\n",
       "    <tr>\n",
       "      <th>4</th>\n",
       "      <td>-2ayGrxgMlRAQpix5RZtTA</td>\n",
       "      <td>4</td>\n",
       "      <td>0.0</td>\n",
       "      <td>1.0</td>\n",
       "    </tr>\n",
       "  </tbody>\n",
       "</table>\n",
       "</div>"
      ],
      "text/plain": [
       "                review_id  stars  label  prediction\n",
       "0  --VE-t7k_ykSu2mlKpKwqA      4    0.0         0.0\n",
       "1  --yzATieNipvZ7tVuTvNKw      5    1.0         0.0\n",
       "2  -0HGoSW-aswXr2dlcqb9Dw      4    0.0         2.0\n",
       "3  -0sjL8VTtLDLBBywRG6NJg      4    0.0         1.0\n",
       "4  -2ayGrxgMlRAQpix5RZtTA      4    0.0         1.0"
      ]
     },
     "execution_count": 17,
     "metadata": {},
     "output_type": "execute_result"
    }
   ],
   "source": [
    "test_results_pandas_df = test_results.select(\"review_id\",\"stars\", \"label\", \"prediction\").toPandas()\n",
    "test_results_pandas_df.head()"
   ]
  },
  {
   "cell_type": "code",
   "execution_count": 18,
   "metadata": {},
   "outputs": [
    {
     "data": {
      "text/html": [
       "<div>\n",
       "<style>\n",
       "    .dataframe thead tr:only-child th {\n",
       "        text-align: right;\n",
       "    }\n",
       "\n",
       "    .dataframe thead th {\n",
       "        text-align: left;\n",
       "    }\n",
       "\n",
       "    .dataframe tbody tr th {\n",
       "        vertical-align: top;\n",
       "    }\n",
       "</style>\n",
       "<table border=\"1\" class=\"dataframe\">\n",
       "  <thead>\n",
       "    <tr style=\"text-align: right;\">\n",
       "      <th></th>\n",
       "      <th>review_id</th>\n",
       "      <th>stars</th>\n",
       "      <th>label</th>\n",
       "      <th>prediction</th>\n",
       "    </tr>\n",
       "  </thead>\n",
       "  <tbody>\n",
       "  </tbody>\n",
       "</table>\n",
       "</div>"
      ],
      "text/plain": [
       "Empty DataFrame\n",
       "Columns: [review_id, stars, label, prediction]\n",
       "Index: []"
      ]
     },
     "execution_count": 18,
     "metadata": {},
     "output_type": "execute_result"
    }
   ],
   "source": [
    "test_results_pandas_df[test_results_pandas_df[\"review_id\"] == 'NHuuLXPWt9d9JXmptz3zjg']"
   ]
  },
  {
   "cell_type": "code",
   "execution_count": 19,
   "metadata": {},
   "outputs": [
    {
     "data": {
      "text/html": [
       "<div>\n",
       "<style>\n",
       "    .dataframe thead tr:only-child th {\n",
       "        text-align: right;\n",
       "    }\n",
       "\n",
       "    .dataframe thead th {\n",
       "        text-align: left;\n",
       "    }\n",
       "\n",
       "    .dataframe tbody tr th {\n",
       "        vertical-align: top;\n",
       "    }\n",
       "</style>\n",
       "<table border=\"1\" class=\"dataframe\">\n",
       "  <thead>\n",
       "    <tr style=\"text-align: right;\">\n",
       "      <th></th>\n",
       "      <th>review_id</th>\n",
       "      <th>stars</th>\n",
       "      <th>label</th>\n",
       "      <th>prediction</th>\n",
       "    </tr>\n",
       "  </thead>\n",
       "  <tbody>\n",
       "    <tr>\n",
       "      <th>153</th>\n",
       "      <td>0n1w0w1VsRF4eqeqZHnX4g</td>\n",
       "      <td>3</td>\n",
       "      <td>2.0</td>\n",
       "      <td>2.0</td>\n",
       "    </tr>\n",
       "  </tbody>\n",
       "</table>\n",
       "</div>"
      ],
      "text/plain": [
       "                  review_id  stars  label  prediction\n",
       "153  0n1w0w1VsRF4eqeqZHnX4g      3    2.0         2.0"
      ]
     },
     "execution_count": 19,
     "metadata": {},
     "output_type": "execute_result"
    }
   ],
   "source": [
    "test_results_pandas_df[test_results_pandas_df[\"review_id\"] == '0n1w0w1VsRF4eqeqZHnX4g']"
   ]
  },
  {
   "cell_type": "code",
   "execution_count": 20,
   "metadata": {},
   "outputs": [
    {
     "data": {
      "text/plain": [
       "[1121, 1942, 4351, 7978, 5500]"
      ]
     },
     "execution_count": 20,
     "metadata": {},
     "output_type": "execute_result"
    }
   ],
   "source": [
    "\n",
    "reviewer_rating = []\n",
    "ML_rating = []\n",
    "\n",
    "reviewer_rating.append(test_results_pandas_df[(test_results_pandas_df['label']==4.0)]['label'].count())\n",
    "ML_rating.append(test_results_pandas_df[(test_results_pandas_df['prediction']==4.0)]['prediction'].count())\n",
    "\n",
    "reviewer_rating.append(test_results_pandas_df[(test_results_pandas_df['label']==3.0)]['label'].count())\n",
    "ML_rating.append(test_results_pandas_df[(test_results_pandas_df['prediction']==3.0)]['prediction'].count())\n",
    "\n",
    "reviewer_rating.append(test_results_pandas_df[(test_results_pandas_df['label']==2.0)]['label'].count())\n",
    "ML_rating.append(test_results_pandas_df[(test_results_pandas_df['prediction']==2.0)]['prediction'].count())\n",
    "\n",
    "reviewer_rating.append(test_results_pandas_df[(test_results_pandas_df['label']==0.0)]['label'].count())\n",
    "ML_rating.append(test_results_pandas_df[(test_results_pandas_df['prediction']==0.0)]['prediction'].count())\n",
    "\n",
    "reviewer_rating.append(test_results_pandas_df[(test_results_pandas_df['label']==1.0)]['label'].count())\n",
    "ML_rating.append(test_results_pandas_df[(test_results_pandas_df['prediction']==1.0)]['prediction'].count())\n",
    " \n",
    "reviewer_rating    \n"
   ]
  },
  {
   "cell_type": "code",
   "execution_count": 21,
   "metadata": {},
   "outputs": [
    {
     "data": {
      "text/plain": [
       "[502, 1139, 3425, 11054, 4772]"
      ]
     },
     "execution_count": 21,
     "metadata": {},
     "output_type": "execute_result"
    }
   ],
   "source": [
    "ML_rating"
   ]
  },
  {
   "cell_type": "code",
   "execution_count": 22,
   "metadata": {},
   "outputs": [
    {
     "data": {
      "image/png": "[encoded data removed]",
      "text/plain": [
       "<matplotlib.figure.Figure at 0x1d5a43b39b0>"
      ]
     },
     "metadata": {},
     "output_type": "display_data"
    }
   ],
   "source": [
    "fig = plt.figure(figsize=(9, 8), dpi= 80, facecolor='w', edgecolor='k')\n",
    "\n",
    "x_range = np.arange(5)\n",
    "width = 0.25\n",
    "\n",
    "plt.bar(x_range+1, reviewer_rating, width)\n",
    "plt.bar(x_range+1 + width, ML_rating, width)\n",
    "\n",
    "\n",
    "plt.xlabel('Rating')\n",
    "plt.ylabel('Number of reviews')\n",
    "plt.title('Naive Bayes + Ngram VS reviewer rating')\n",
    "plt.legend(['NaiveBayes + Ngram Algurithm prediction of rating', 'The reviewer rating'])\n",
    "\n",
    "plt.show()"
   ]
  },
  {
   "cell_type": "code",
   "execution_count": null,
   "metadata": {
    "collapsed": true
   },
   "outputs": [],
   "source": [
    "test_results_pandas_df.to_csv(\"NavieBays_testresult.csv\")"
   ]
  },
  {
   "cell_type": "code",
   "execution_count": null,
   "metadata": {
    "collapsed": true
   },
   "outputs": [],
   "source": [
    "spark.stop()"
   ]
  },
  {
   "cell_type": "code",
   "execution_count": null,
   "metadata": {
    "collapsed": true
   },
   "outputs": [],
   "source": []
  }
 ],
 "metadata": {
  "kernelspec": {
   "display_name": "Python 3",
   "language": "python",
   "name": "python3"
  },
  "language_info": {
   "codemirror_mode": {
    "name": "ipython",
    "version": 3
   },
   "file_extension": ".py",
   "mimetype": "text/x-python",
   "name": "python",
   "nbconvert_exporter": "python",
   "pygments_lexer": "ipython3",
   "version": "3.6.3"
  }
 },
 "nbformat": 4,
 "nbformat_minor": 2
}
